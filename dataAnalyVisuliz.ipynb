{
 "cells": [
  {
   "cell_type": "markdown",
   "id": "b1a99eee",
   "metadata": {},
   "source": [
    "<H2> Data Preparation for Analysis and Visulization</h2>"
   ]
  },
  {
   "cell_type": "markdown",
   "id": "3b658bd8",
   "metadata": {},
   "source": [
    "<b> By Michael Kumakech </b>"
   ]
  },
  {
   "cell_type": "markdown",
   "id": "80d153af",
   "metadata": {},
   "source": [
    "<h2> Grab the Data from the Web</h2>"
   ]
  },
  {
   "cell_type": "markdown",
   "id": "689605d5",
   "metadata": {},
   "source": [
    "<b> Import Packages </b>"
   ]
  },
  {
   "cell_type": "code",
   "execution_count": 6,
   "id": "f70556c6",
   "metadata": {},
   "outputs": [],
   "source": [
    "import requests\n",
    "import lxml.html as lh\n",
    "import pandas as pd"
   ]
  },
  {
   "cell_type": "code",
   "execution_count": 7,
   "id": "4be9519f",
   "metadata": {},
   "outputs": [
    {
     "data": {
      "text/plain": [
       "[22, 22, 22, 22, 22, 22, 22, 22, 22, 22, 22, 22]"
      ]
     },
     "execution_count": 7,
     "metadata": {},
     "output_type": "execute_result"
    }
   ],
   "source": [
    "WHO_url = 'https://www.worldometers.info/coronavirus/' #assign the wiki page\n",
    "\n",
    "\n",
    "page = requests.get(WHO_url) # create a handle to for contents of the wiki page\n",
    "\n",
    "doc = lh.fromstring(page.content) # store content of the wiki page under doc\n",
    "\n",
    "tr_elements = doc.xpath('//tr') # parse data stored between tr in the html\n",
    "\n",
    "[len(T) for T in tr_elements[:12]] # check the length of the first 12"
   ]
  },
  {
   "cell_type": "markdown",
   "id": "0ccde418",
   "metadata": {},
   "source": [
    "<b> Check the table headers</b>"
   ]
  },
  {
   "cell_type": "code",
   "execution_count": 8,
   "id": "497b96aa",
   "metadata": {},
   "outputs": [
    {
     "name": "stdout",
     "output_type": "stream",
     "text": [
      "1:#\n",
      "2:Country,Other\n",
      "3:TotalCases\n",
      "4:NewCases\n",
      "5:TotalDeaths\n",
      "6:NewDeaths\n",
      "7:TotalRecovered\n",
      "8:NewRecovered\n",
      "9:ActiveCases\n",
      "10:Serious,Critical\n",
      "11:Tot Cases/1M pop\n",
      "12:Deaths/1M pop\n",
      "13:TotalTests\n",
      "14:Tests/\n",
      "1M pop\n",
      "\n",
      "15:Population\n",
      "16:Continent\n",
      "17:1 Caseevery X ppl\n",
      "18:1 Deathevery X ppl\n",
      "19:1 Testevery X ppl\n",
      "20:New Cases/1M pop\n",
      "21:New Deaths/1M pop\n",
      "22:Active Cases/1M pop\n"
     ]
    }
   ],
   "source": [
    "tr_elements = doc.xpath('//tr') # parse first row as header\n",
    "\n",
    "col = [] # create empty list\n",
    "i = 0\n",
    "\n",
    "for t in tr_elements[0]: # for each row, store each first element (header) and an empty list\n",
    "    i+=1\n",
    "    name=t.text_content()\n",
    "    print(\"%d:%s\" % (i,name))\n",
    "    col.append((name,[]))"
   ]
  },
  {
   "cell_type": "markdown",
   "id": "00c4ace8",
   "metadata": {},
   "source": [
    "<b> Check the data in other Row</b>"
   ]
  },
  {
   "cell_type": "code",
   "execution_count": 9,
   "id": "73d33604",
   "metadata": {},
   "outputs": [],
   "source": [
    "for j in range(1,len(tr_elements)): # Because header is the first row, data would be store in the subsequent rows.\n",
    "    T = tr_elements[j] #T is j'th row\n",
    "    \n",
    "    if len(T)!=22: #if row is not size 3, //tr data is not from the table.\n",
    "        break\n",
    "        \n",
    "    i = 0 #i is the index of the first column\n",
    "    \n",
    "    for t in T.iterchildren(): #iterate through each element of the row\n",
    "        data=t.text_content()\n",
    "            \n",
    "        col[i][1].append(data) #append the data to the empty list of the i'th column\n",
    "            \n",
    "        i+=1 #increment i for the next column"
   ]
  },
  {
   "cell_type": "markdown",
   "id": "39470654",
   "metadata": {},
   "source": [
    "<b> What about the numbers of rows and columns</b>"
   ]
  },
  {
   "cell_type": "code",
   "execution_count": 10,
   "id": "4ce2a549",
   "metadata": {},
   "outputs": [
    {
     "data": {
      "text/plain": [
       "[740,\n",
       " 740,\n",
       " 740,\n",
       " 740,\n",
       " 740,\n",
       " 740,\n",
       " 740,\n",
       " 740,\n",
       " 740,\n",
       " 740,\n",
       " 740,\n",
       " 740,\n",
       " 740,\n",
       " 740,\n",
       " 740,\n",
       " 740,\n",
       " 740,\n",
       " 740,\n",
       " 740,\n",
       " 740,\n",
       " 740,\n",
       " 740]"
      ]
     },
     "execution_count": 10,
     "metadata": {},
     "output_type": "execute_result"
    }
   ],
   "source": [
    "[len(C) for (title,C) in col]"
   ]
  },
  {
   "cell_type": "markdown",
   "id": "38583aa7",
   "metadata": {},
   "source": [
    "<b>Displays the data frame with three columns.</b>"
   ]
  },
  {
   "cell_type": "code",
   "execution_count": 11,
   "id": "0709e301",
   "metadata": {},
   "outputs": [],
   "source": [
    "Dict = {title:column for (title,column) in col}\n",
    "df = pd.DataFrame(Dict)"
   ]
  },
  {
   "cell_type": "code",
   "execution_count": 12,
   "id": "24ab7178",
   "metadata": {},
   "outputs": [
    {
     "data": {
      "text/html": [
       "<div>\n",
       "<style scoped>\n",
       "    .dataframe tbody tr th:only-of-type {\n",
       "        vertical-align: middle;\n",
       "    }\n",
       "\n",
       "    .dataframe tbody tr th {\n",
       "        vertical-align: top;\n",
       "    }\n",
       "\n",
       "    .dataframe thead th {\n",
       "        text-align: right;\n",
       "    }\n",
       "</style>\n",
       "<table border=\"1\" class=\"dataframe\">\n",
       "  <thead>\n",
       "    <tr style=\"text-align: right;\">\n",
       "      <th></th>\n",
       "      <th>#</th>\n",
       "      <th>Country,Other</th>\n",
       "      <th>TotalCases</th>\n",
       "      <th>NewCases</th>\n",
       "      <th>TotalDeaths</th>\n",
       "      <th>NewDeaths</th>\n",
       "      <th>TotalRecovered</th>\n",
       "      <th>NewRecovered</th>\n",
       "      <th>ActiveCases</th>\n",
       "      <th>Serious,Critical</th>\n",
       "      <th>...</th>\n",
       "      <th>TotalTests</th>\n",
       "      <th>Tests/\\n1M pop\\n</th>\n",
       "      <th>Population</th>\n",
       "      <th>Continent</th>\n",
       "      <th>1 Caseevery X ppl</th>\n",
       "      <th>1 Deathevery X ppl</th>\n",
       "      <th>1 Testevery X ppl</th>\n",
       "      <th>New Cases/1M pop</th>\n",
       "      <th>New Deaths/1M pop</th>\n",
       "      <th>Active Cases/1M pop</th>\n",
       "    </tr>\n",
       "  </thead>\n",
       "  <tbody>\n",
       "    <tr>\n",
       "      <th>0</th>\n",
       "      <td></td>\n",
       "      <td>\\nNorth America\\n</td>\n",
       "      <td>104,765,187</td>\n",
       "      <td>+17,432</td>\n",
       "      <td>1,485,358</td>\n",
       "      <td>+42</td>\n",
       "      <td>98,326,531</td>\n",
       "      <td>+6,049</td>\n",
       "      <td>4,953,298</td>\n",
       "      <td>8,485</td>\n",
       "      <td>...</td>\n",
       "      <td></td>\n",
       "      <td></td>\n",
       "      <td></td>\n",
       "      <td>North America</td>\n",
       "      <td>\\n</td>\n",
       "      <td></td>\n",
       "      <td></td>\n",
       "      <td></td>\n",
       "      <td></td>\n",
       "      <td></td>\n",
       "    </tr>\n",
       "    <tr>\n",
       "      <th>1</th>\n",
       "      <td></td>\n",
       "      <td>\\nAsia\\n</td>\n",
       "      <td>160,565,835</td>\n",
       "      <td>+82,041</td>\n",
       "      <td>1,438,137</td>\n",
       "      <td>+210</td>\n",
       "      <td>154,898,276</td>\n",
       "      <td>+106,844</td>\n",
       "      <td>4,229,422</td>\n",
       "      <td>10,373</td>\n",
       "      <td>...</td>\n",
       "      <td></td>\n",
       "      <td></td>\n",
       "      <td></td>\n",
       "      <td>Asia</td>\n",
       "      <td>\\n</td>\n",
       "      <td></td>\n",
       "      <td></td>\n",
       "      <td></td>\n",
       "      <td></td>\n",
       "      <td></td>\n",
       "    </tr>\n",
       "    <tr>\n",
       "      <th>2</th>\n",
       "      <td></td>\n",
       "      <td>\\nSouth America\\n</td>\n",
       "      <td>59,257,978</td>\n",
       "      <td>+1,186</td>\n",
       "      <td>1,303,714</td>\n",
       "      <td></td>\n",
       "      <td>56,155,527</td>\n",
       "      <td>+6,595</td>\n",
       "      <td>1,798,737</td>\n",
       "      <td>10,363</td>\n",
       "      <td>...</td>\n",
       "      <td></td>\n",
       "      <td></td>\n",
       "      <td></td>\n",
       "      <td>South America</td>\n",
       "      <td>\\n</td>\n",
       "      <td></td>\n",
       "      <td></td>\n",
       "      <td></td>\n",
       "      <td></td>\n",
       "      <td></td>\n",
       "    </tr>\n",
       "    <tr>\n",
       "      <th>3</th>\n",
       "      <td></td>\n",
       "      <td>\\nEurope\\n</td>\n",
       "      <td>201,834,653</td>\n",
       "      <td>+15,872</td>\n",
       "      <td>1,852,941</td>\n",
       "      <td>+69</td>\n",
       "      <td>193,228,315</td>\n",
       "      <td>+32,120</td>\n",
       "      <td>6,753,397</td>\n",
       "      <td>5,863</td>\n",
       "      <td>...</td>\n",
       "      <td></td>\n",
       "      <td></td>\n",
       "      <td></td>\n",
       "      <td>Europe</td>\n",
       "      <td>\\n</td>\n",
       "      <td></td>\n",
       "      <td></td>\n",
       "      <td></td>\n",
       "      <td></td>\n",
       "      <td></td>\n",
       "    </tr>\n",
       "    <tr>\n",
       "      <th>4</th>\n",
       "      <td></td>\n",
       "      <td>\\nOceania\\n</td>\n",
       "      <td>9,604,626</td>\n",
       "      <td>+32,313</td>\n",
       "      <td>13,780</td>\n",
       "      <td>+66</td>\n",
       "      <td>9,246,682</td>\n",
       "      <td>+4,543</td>\n",
       "      <td>344,164</td>\n",
       "      <td>136</td>\n",
       "      <td>...</td>\n",
       "      <td></td>\n",
       "      <td></td>\n",
       "      <td></td>\n",
       "      <td>Australia/Oceania</td>\n",
       "      <td>\\n</td>\n",
       "      <td></td>\n",
       "      <td></td>\n",
       "      <td></td>\n",
       "      <td></td>\n",
       "      <td></td>\n",
       "    </tr>\n",
       "  </tbody>\n",
       "</table>\n",
       "<p>5 rows × 22 columns</p>\n",
       "</div>"
      ],
      "text/plain": [
       "  #      Country,Other   TotalCases NewCases TotalDeaths NewDeaths  \\\n",
       "0    \\nNorth America\\n  104,765,187  +17,432   1,485,358       +42   \n",
       "1             \\nAsia\\n  160,565,835  +82,041   1,438,137      +210   \n",
       "2    \\nSouth America\\n   59,257,978   +1,186   1,303,714             \n",
       "3           \\nEurope\\n  201,834,653  +15,872   1,852,941       +69   \n",
       "4          \\nOceania\\n    9,604,626  +32,313      13,780       +66   \n",
       "\n",
       "  TotalRecovered NewRecovered ActiveCases Serious,Critical  ... TotalTests  \\\n",
       "0     98,326,531       +6,049   4,953,298            8,485  ...              \n",
       "1    154,898,276     +106,844   4,229,422           10,373  ...              \n",
       "2     56,155,527       +6,595   1,798,737           10,363  ...              \n",
       "3    193,228,315      +32,120   6,753,397            5,863  ...              \n",
       "4      9,246,682       +4,543     344,164              136  ...              \n",
       "\n",
       "  Tests/\\n1M pop\\n Population          Continent 1 Caseevery X ppl  \\\n",
       "0                                  North America                \\n   \n",
       "1                                           Asia                \\n   \n",
       "2                                  South America                \\n   \n",
       "3                                         Europe                \\n   \n",
       "4                              Australia/Oceania                \\n   \n",
       "\n",
       "  1 Deathevery X ppl 1 Testevery X ppl New Cases/1M pop New Deaths/1M pop  \\\n",
       "0                                                                           \n",
       "1                                                                           \n",
       "2                                                                           \n",
       "3                                                                           \n",
       "4                                                                           \n",
       "\n",
       "  Active Cases/1M pop  \n",
       "0                      \n",
       "1                      \n",
       "2                      \n",
       "3                      \n",
       "4                      \n",
       "\n",
       "[5 rows x 22 columns]"
      ]
     },
     "execution_count": 12,
     "metadata": {},
     "output_type": "execute_result"
    }
   ],
   "source": [
    "df.head()"
   ]
  },
  {
   "cell_type": "markdown",
   "id": "1e615427",
   "metadata": {},
   "source": [
    "<h2> Clean the Data set <h2>"
   ]
  },
  {
   "cell_type": "markdown",
   "id": "4fb93055",
   "metadata": {},
   "source": [
    "<b> 1. Remove the Special Characters such as + and , in the records</b>"
   ]
  },
  {
   "cell_type": "code",
   "execution_count": 29,
   "id": "5ee9ec92",
   "metadata": {},
   "outputs": [],
   "source": [
    "# Write your codes here"
   ]
  },
  {
   "cell_type": "markdown",
   "id": "670f0601",
   "metadata": {},
   "source": [
    " 2. Delete columns that few records :<b> NewCases, NewDeaths, and  NewRecovered </b>"
   ]
  },
  {
   "cell_type": "code",
   "execution_count": 30,
   "id": "fcac1916",
   "metadata": {},
   "outputs": [
    {
     "data": {
      "text/html": [
       "<div>\n",
       "<style scoped>\n",
       "    .dataframe tbody tr th:only-of-type {\n",
       "        vertical-align: middle;\n",
       "    }\n",
       "\n",
       "    .dataframe tbody tr th {\n",
       "        vertical-align: top;\n",
       "    }\n",
       "\n",
       "    .dataframe thead th {\n",
       "        text-align: right;\n",
       "    }\n",
       "</style>\n",
       "<table border=\"1\" class=\"dataframe\">\n",
       "  <thead>\n",
       "    <tr style=\"text-align: right;\">\n",
       "      <th></th>\n",
       "      <th>#</th>\n",
       "      <th>Country,Other</th>\n",
       "      <th>TotalCases</th>\n",
       "      <th>TotalDeaths</th>\n",
       "      <th>TotalRecovered</th>\n",
       "      <th>ActiveCases</th>\n",
       "      <th>Serious,Critical</th>\n",
       "      <th>Tot Cases/1M pop</th>\n",
       "      <th>Deaths/1M pop</th>\n",
       "      <th>TotalTests</th>\n",
       "      <th>Tests/\\n1M pop\\n</th>\n",
       "      <th>Population</th>\n",
       "      <th>Continent</th>\n",
       "      <th>1 Caseevery X ppl</th>\n",
       "      <th>1 Deathevery X ppl</th>\n",
       "      <th>1 Testevery X ppl</th>\n",
       "      <th>New Cases/1M pop</th>\n",
       "      <th>New Deaths/1M pop</th>\n",
       "      <th>Active Cases/1M pop</th>\n",
       "    </tr>\n",
       "  </thead>\n",
       "  <tbody>\n",
       "    <tr>\n",
       "      <th>0</th>\n",
       "      <td></td>\n",
       "      <td>\\nNorth America\\n</td>\n",
       "      <td>104,765,187</td>\n",
       "      <td>1,485,358</td>\n",
       "      <td>98,326,531</td>\n",
       "      <td>4,953,298</td>\n",
       "      <td>8,485</td>\n",
       "      <td></td>\n",
       "      <td></td>\n",
       "      <td></td>\n",
       "      <td></td>\n",
       "      <td></td>\n",
       "      <td>North America</td>\n",
       "      <td>\\n</td>\n",
       "      <td></td>\n",
       "      <td></td>\n",
       "      <td></td>\n",
       "      <td></td>\n",
       "      <td></td>\n",
       "    </tr>\n",
       "    <tr>\n",
       "      <th>1</th>\n",
       "      <td></td>\n",
       "      <td>\\nAsia\\n</td>\n",
       "      <td>160,565,835</td>\n",
       "      <td>1,438,137</td>\n",
       "      <td>154,898,276</td>\n",
       "      <td>4,229,422</td>\n",
       "      <td>10,373</td>\n",
       "      <td></td>\n",
       "      <td></td>\n",
       "      <td></td>\n",
       "      <td></td>\n",
       "      <td></td>\n",
       "      <td>Asia</td>\n",
       "      <td>\\n</td>\n",
       "      <td></td>\n",
       "      <td></td>\n",
       "      <td></td>\n",
       "      <td></td>\n",
       "      <td></td>\n",
       "    </tr>\n",
       "    <tr>\n",
       "      <th>2</th>\n",
       "      <td></td>\n",
       "      <td>\\nSouth America\\n</td>\n",
       "      <td>59,257,978</td>\n",
       "      <td>1,303,714</td>\n",
       "      <td>56,155,527</td>\n",
       "      <td>1,798,737</td>\n",
       "      <td>10,363</td>\n",
       "      <td></td>\n",
       "      <td></td>\n",
       "      <td></td>\n",
       "      <td></td>\n",
       "      <td></td>\n",
       "      <td>South America</td>\n",
       "      <td>\\n</td>\n",
       "      <td></td>\n",
       "      <td></td>\n",
       "      <td></td>\n",
       "      <td></td>\n",
       "      <td></td>\n",
       "    </tr>\n",
       "    <tr>\n",
       "      <th>3</th>\n",
       "      <td></td>\n",
       "      <td>\\nEurope\\n</td>\n",
       "      <td>201,834,653</td>\n",
       "      <td>1,852,941</td>\n",
       "      <td>193,228,315</td>\n",
       "      <td>6,753,397</td>\n",
       "      <td>5,863</td>\n",
       "      <td></td>\n",
       "      <td></td>\n",
       "      <td></td>\n",
       "      <td></td>\n",
       "      <td></td>\n",
       "      <td>Europe</td>\n",
       "      <td>\\n</td>\n",
       "      <td></td>\n",
       "      <td></td>\n",
       "      <td></td>\n",
       "      <td></td>\n",
       "      <td></td>\n",
       "    </tr>\n",
       "    <tr>\n",
       "      <th>4</th>\n",
       "      <td></td>\n",
       "      <td>\\nOceania\\n</td>\n",
       "      <td>9,604,626</td>\n",
       "      <td>13,780</td>\n",
       "      <td>9,246,682</td>\n",
       "      <td>344,164</td>\n",
       "      <td>136</td>\n",
       "      <td></td>\n",
       "      <td></td>\n",
       "      <td></td>\n",
       "      <td></td>\n",
       "      <td></td>\n",
       "      <td>Australia/Oceania</td>\n",
       "      <td>\\n</td>\n",
       "      <td></td>\n",
       "      <td></td>\n",
       "      <td></td>\n",
       "      <td></td>\n",
       "      <td></td>\n",
       "    </tr>\n",
       "  </tbody>\n",
       "</table>\n",
       "</div>"
      ],
      "text/plain": [
       "  #      Country,Other   TotalCases TotalDeaths TotalRecovered ActiveCases  \\\n",
       "0    \\nNorth America\\n  104,765,187   1,485,358     98,326,531   4,953,298   \n",
       "1             \\nAsia\\n  160,565,835   1,438,137    154,898,276   4,229,422   \n",
       "2    \\nSouth America\\n   59,257,978   1,303,714     56,155,527   1,798,737   \n",
       "3           \\nEurope\\n  201,834,653   1,852,941    193,228,315   6,753,397   \n",
       "4          \\nOceania\\n    9,604,626      13,780      9,246,682     344,164   \n",
       "\n",
       "  Serious,Critical Tot Cases/1M pop Deaths/1M pop TotalTests Tests/\\n1M pop\\n  \\\n",
       "0            8,485                                                              \n",
       "1           10,373                                                              \n",
       "2           10,363                                                              \n",
       "3            5,863                                                              \n",
       "4              136                                                              \n",
       "\n",
       "  Population          Continent 1 Caseevery X ppl 1 Deathevery X ppl  \\\n",
       "0                 North America                \\n                      \n",
       "1                          Asia                \\n                      \n",
       "2                 South America                \\n                      \n",
       "3                        Europe                \\n                      \n",
       "4             Australia/Oceania                \\n                      \n",
       "\n",
       "  1 Testevery X ppl New Cases/1M pop New Deaths/1M pop Active Cases/1M pop  \n",
       "0                                                                           \n",
       "1                                                                           \n",
       "2                                                                           \n",
       "3                                                                           \n",
       "4                                                                           "
      ]
     },
     "execution_count": 30,
     "metadata": {},
     "output_type": "execute_result"
    }
   ],
   "source": [
    "df1 =df.drop(columns = ['NewCases','NewDeaths','NewRecovered'])\n",
    "df1.head()"
   ]
  },
  {
   "cell_type": "markdown",
   "id": "89315142",
   "metadata": {},
   "source": [
    "3. Delete Row(s) that are not relevant  Eg:<b> Total </b>"
   ]
  },
  {
   "cell_type": "code",
   "execution_count": 25,
   "id": "6a044993",
   "metadata": {},
   "outputs": [],
   "source": [
    "#START YOU CODE HERE!\n",
    "\n"
   ]
  },
  {
   "cell_type": "code",
   "execution_count": 26,
   "id": "eb685eaf",
   "metadata": {},
   "outputs": [],
   "source": [
    "# Write one line of code to check the first 6 last records"
   ]
  },
  {
   "cell_type": "markdown",
   "id": "8492d8ff",
   "metadata": {},
   "source": [
    "<b> 4. Change the column headings that are long to short meaninful headings </b>"
   ]
  },
  {
   "cell_type": "code",
   "execution_count": 31,
   "id": "de65285f",
   "metadata": {},
   "outputs": [
    {
     "data": {
      "text/html": [
       "<div>\n",
       "<style scoped>\n",
       "    .dataframe tbody tr th:only-of-type {\n",
       "        vertical-align: middle;\n",
       "    }\n",
       "\n",
       "    .dataframe tbody tr th {\n",
       "        vertical-align: top;\n",
       "    }\n",
       "\n",
       "    .dataframe thead th {\n",
       "        text-align: right;\n",
       "    }\n",
       "</style>\n",
       "<table border=\"1\" class=\"dataframe\">\n",
       "  <thead>\n",
       "    <tr style=\"text-align: right;\">\n",
       "      <th></th>\n",
       "      <th>#</th>\n",
       "      <th>Country,Other</th>\n",
       "      <th>TotalCases</th>\n",
       "      <th>TotalDeaths</th>\n",
       "      <th>TotalRecovered</th>\n",
       "      <th>ActiveCases</th>\n",
       "      <th>Serious,Critical</th>\n",
       "      <th>Tot Cases/1M pop</th>\n",
       "      <th>DeathsPer1M</th>\n",
       "      <th>TotalTests</th>\n",
       "      <th>TestPer1MPop</th>\n",
       "      <th>Population</th>\n",
       "      <th>Continent</th>\n",
       "      <th>1 Caseevery X ppl</th>\n",
       "      <th>1 Deathevery X ppl</th>\n",
       "      <th>1 Testevery X ppl</th>\n",
       "      <th>New Cases/1M pop</th>\n",
       "      <th>New Deaths/1M pop</th>\n",
       "      <th>Active Cases/1M pop</th>\n",
       "    </tr>\n",
       "  </thead>\n",
       "  <tbody>\n",
       "    <tr>\n",
       "      <th>0</th>\n",
       "      <td></td>\n",
       "      <td>\\nNorth America\\n</td>\n",
       "      <td>104,765,187</td>\n",
       "      <td>1,485,358</td>\n",
       "      <td>98,326,531</td>\n",
       "      <td>4,953,298</td>\n",
       "      <td>8,485</td>\n",
       "      <td></td>\n",
       "      <td></td>\n",
       "      <td></td>\n",
       "      <td></td>\n",
       "      <td></td>\n",
       "      <td>North America</td>\n",
       "      <td>\\n</td>\n",
       "      <td></td>\n",
       "      <td></td>\n",
       "      <td></td>\n",
       "      <td></td>\n",
       "      <td></td>\n",
       "    </tr>\n",
       "    <tr>\n",
       "      <th>1</th>\n",
       "      <td></td>\n",
       "      <td>\\nAsia\\n</td>\n",
       "      <td>160,565,835</td>\n",
       "      <td>1,438,137</td>\n",
       "      <td>154,898,276</td>\n",
       "      <td>4,229,422</td>\n",
       "      <td>10,373</td>\n",
       "      <td></td>\n",
       "      <td></td>\n",
       "      <td></td>\n",
       "      <td></td>\n",
       "      <td></td>\n",
       "      <td>Asia</td>\n",
       "      <td>\\n</td>\n",
       "      <td></td>\n",
       "      <td></td>\n",
       "      <td></td>\n",
       "      <td></td>\n",
       "      <td></td>\n",
       "    </tr>\n",
       "    <tr>\n",
       "      <th>2</th>\n",
       "      <td></td>\n",
       "      <td>\\nSouth America\\n</td>\n",
       "      <td>59,257,978</td>\n",
       "      <td>1,303,714</td>\n",
       "      <td>56,155,527</td>\n",
       "      <td>1,798,737</td>\n",
       "      <td>10,363</td>\n",
       "      <td></td>\n",
       "      <td></td>\n",
       "      <td></td>\n",
       "      <td></td>\n",
       "      <td></td>\n",
       "      <td>South America</td>\n",
       "      <td>\\n</td>\n",
       "      <td></td>\n",
       "      <td></td>\n",
       "      <td></td>\n",
       "      <td></td>\n",
       "      <td></td>\n",
       "    </tr>\n",
       "    <tr>\n",
       "      <th>3</th>\n",
       "      <td></td>\n",
       "      <td>\\nEurope\\n</td>\n",
       "      <td>201,834,653</td>\n",
       "      <td>1,852,941</td>\n",
       "      <td>193,228,315</td>\n",
       "      <td>6,753,397</td>\n",
       "      <td>5,863</td>\n",
       "      <td></td>\n",
       "      <td></td>\n",
       "      <td></td>\n",
       "      <td></td>\n",
       "      <td></td>\n",
       "      <td>Europe</td>\n",
       "      <td>\\n</td>\n",
       "      <td></td>\n",
       "      <td></td>\n",
       "      <td></td>\n",
       "      <td></td>\n",
       "      <td></td>\n",
       "    </tr>\n",
       "    <tr>\n",
       "      <th>4</th>\n",
       "      <td></td>\n",
       "      <td>\\nOceania\\n</td>\n",
       "      <td>9,604,626</td>\n",
       "      <td>13,780</td>\n",
       "      <td>9,246,682</td>\n",
       "      <td>344,164</td>\n",
       "      <td>136</td>\n",
       "      <td></td>\n",
       "      <td></td>\n",
       "      <td></td>\n",
       "      <td></td>\n",
       "      <td></td>\n",
       "      <td>Australia/Oceania</td>\n",
       "      <td>\\n</td>\n",
       "      <td></td>\n",
       "      <td></td>\n",
       "      <td></td>\n",
       "      <td></td>\n",
       "      <td></td>\n",
       "    </tr>\n",
       "  </tbody>\n",
       "</table>\n",
       "</div>"
      ],
      "text/plain": [
       "  #      Country,Other   TotalCases TotalDeaths TotalRecovered ActiveCases  \\\n",
       "0    \\nNorth America\\n  104,765,187   1,485,358     98,326,531   4,953,298   \n",
       "1             \\nAsia\\n  160,565,835   1,438,137    154,898,276   4,229,422   \n",
       "2    \\nSouth America\\n   59,257,978   1,303,714     56,155,527   1,798,737   \n",
       "3           \\nEurope\\n  201,834,653   1,852,941    193,228,315   6,753,397   \n",
       "4          \\nOceania\\n    9,604,626      13,780      9,246,682     344,164   \n",
       "\n",
       "  Serious,Critical Tot Cases/1M pop DeathsPer1M TotalTests TestPer1MPop  \\\n",
       "0            8,485                                                        \n",
       "1           10,373                                                        \n",
       "2           10,363                                                        \n",
       "3            5,863                                                        \n",
       "4              136                                                        \n",
       "\n",
       "  Population          Continent 1 Caseevery X ppl 1 Deathevery X ppl  \\\n",
       "0                 North America                \\n                      \n",
       "1                          Asia                \\n                      \n",
       "2                 South America                \\n                      \n",
       "3                        Europe                \\n                      \n",
       "4             Australia/Oceania                \\n                      \n",
       "\n",
       "  1 Testevery X ppl New Cases/1M pop New Deaths/1M pop Active Cases/1M pop  \n",
       "0                                                                           \n",
       "1                                                                           \n",
       "2                                                                           \n",
       "3                                                                           \n",
       "4                                                                           "
      ]
     },
     "execution_count": 31,
     "metadata": {},
     "output_type": "execute_result"
    }
   ],
   "source": [
    "df2 = df1.rename(columns = {'Deaths/1M pop': 'TotCasePer1M','Deaths/1M pop':'DeathsPer1M','Tests/\\n1M pop\\n': 'TestPer1MPop'})\n",
    "df2.head()"
   ]
  },
  {
   "cell_type": "markdown",
   "id": "dd90db84",
   "metadata": {},
   "source": [
    "5.Change the column heading<b> Tot Cases/1M pop</b> to <b> TotCasesP1M</b>"
   ]
  },
  {
   "cell_type": "code",
   "execution_count": null,
   "id": "e39bcc3e",
   "metadata": {},
   "outputs": [],
   "source": [
    "# Write your Code Here\n"
   ]
  },
  {
   "cell_type": "code",
   "execution_count": 28,
   "id": "2e884d6b",
   "metadata": {},
   "outputs": [
    {
     "data": {
      "text/plain": [
       "#                      object\n",
       "Country,Other          object\n",
       "TotalCases             object\n",
       "TotalDeaths            object\n",
       "TotalRecovered         object\n",
       "ActiveCases            object\n",
       "Serious,Critical       object\n",
       "Tot Cases/1M pop       object\n",
       "DeathsPer1M            object\n",
       "TotalTests             object\n",
       "TestPer1MPop           object\n",
       "Population             object\n",
       "Continent              object\n",
       "1 Caseevery X ppl      object\n",
       "1 Deathevery X ppl     object\n",
       "1 Testevery X ppl      object\n",
       "New Cases/1M pop       object\n",
       "New Deaths/1M pop      object\n",
       "Active Cases/1M pop    object\n",
       "dtype: object"
      ]
     },
     "execution_count": 28,
     "metadata": {},
     "output_type": "execute_result"
    }
   ],
   "source": [
    "# check the data types\n",
    "df2.dtypes"
   ]
  },
  {
   "cell_type": "markdown",
   "id": "3457cbfb",
   "metadata": {},
   "source": [
    "<b> 6.Since you are dealing with People, convert the numeric data types to int</b>\n"
   ]
  },
  {
   "cell_type": "code",
   "execution_count": null,
   "id": "2b2dcf4c",
   "metadata": {},
   "outputs": [],
   "source": [
    "# Write your Code Here to cover from TotalCases to 'Population'\n"
   ]
  },
  {
   "cell_type": "markdown",
   "id": "3e0af810",
   "metadata": {},
   "source": [
    "<b> 7. Replace recodes  N/A with Average values</b>"
   ]
  },
  {
   "cell_type": "code",
   "execution_count": null,
   "id": "d4a38164",
   "metadata": {},
   "outputs": [],
   "source": [
    "# Write your codes here\n"
   ]
  },
  {
   "cell_type": "markdown",
   "id": "10b70b80",
   "metadata": {},
   "source": [
    "<b> 8. Compute the descriptive statistics for the records in the data set </b>"
   ]
  },
  {
   "cell_type": "code",
   "execution_count": 32,
   "id": "64b5ec75",
   "metadata": {},
   "outputs": [],
   "source": [
    "# Write ONE line of code Here!"
   ]
  },
  {
   "cell_type": "markdown",
   "id": "506e942b",
   "metadata": {},
   "source": [
    "<b>9. Compute the Correlations between the features</b>"
   ]
  },
  {
   "cell_type": "code",
   "execution_count": 33,
   "id": "7110640e",
   "metadata": {},
   "outputs": [],
   "source": [
    "# Write ONE line of Code Here!"
   ]
  },
  {
   "cell_type": "markdown",
   "id": "a4495af5",
   "metadata": {},
   "source": [
    "<b> 10. What is your Remarks? </b>"
   ]
  },
  {
   "cell_type": "markdown",
   "id": "39e301ec",
   "metadata": {},
   "source": [
    "<h2> Thank you for completing this notebook</h2>"
   ]
  },
  {
   "cell_type": "markdown",
   "id": "2f4cd60b",
   "metadata": {},
   "source": [
    "<h2> About the Author:</h2>"
   ]
  },
  {
   "cell_type": "markdown",
   "id": "51fd88c5",
   "metadata": {},
   "source": [
    "This notebook was written by Michael Kumakech. Michael Kumakech is an instructor at Makerere University, College of Computing and Information Sciences in Uganda, and holds a Professional Certificate in IBM Data Science, a MSc in Data Communication and Software Engineering. His research focused on using Machine Learning, Signal Processing, and Computer Vision to determine how videos impact human cognition. Michael has been working as instructor  at Makerere University, College of Computing and Information Sciencessince 2007."
   ]
  },
  {
   "cell_type": "code",
   "execution_count": null,
   "id": "b0892a37",
   "metadata": {},
   "outputs": [],
   "source": []
  }
 ],
 "metadata": {
  "kernelspec": {
   "display_name": "Python 3 (ipykernel)",
   "language": "python",
   "name": "python3"
  },
  "language_info": {
   "codemirror_mode": {
    "name": "ipython",
    "version": 3
   },
   "file_extension": ".py",
   "mimetype": "text/x-python",
   "name": "python",
   "nbconvert_exporter": "python",
   "pygments_lexer": "ipython3",
   "version": "3.9.7"
  }
 },
 "nbformat": 4,
 "nbformat_minor": 5
}
