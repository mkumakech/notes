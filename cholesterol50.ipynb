{
 "cells": [
  {
   "cell_type": "code",
   "execution_count": 82,
   "id": "dd871782",
   "metadata": {},
   "outputs": [],
   "source": [
    "import matplotlib.pyplot as plt\n",
    "import pandas as pd\n",
    "import pylab as pl\n",
    "import numpy as np\n",
    "%matplotlib inline\n"
   ]
  },
  {
   "cell_type": "code",
   "execution_count": 83,
   "id": "810f6590",
   "metadata": {},
   "outputs": [
    {
     "data": {
      "text/html": [
       "<div>\n",
       "<style scoped>\n",
       "    .dataframe tbody tr th:only-of-type {\n",
       "        vertical-align: middle;\n",
       "    }\n",
       "\n",
       "    .dataframe tbody tr th {\n",
       "        vertical-align: top;\n",
       "    }\n",
       "\n",
       "    .dataframe thead th {\n",
       "        text-align: right;\n",
       "    }\n",
       "</style>\n",
       "<table border=\"1\" class=\"dataframe\">\n",
       "  <thead>\n",
       "    <tr style=\"text-align: right;\">\n",
       "      <th></th>\n",
       "      <th>PatientID</th>\n",
       "      <th>Gender</th>\n",
       "      <th>Age</th>\n",
       "      <th>Complaint</th>\n",
       "      <th>Blood Pressure</th>\n",
       "      <th>Pulse</th>\n",
       "      <th>ProvisionalDiagnosis</th>\n",
       "      <th>Cholesterol</th>\n",
       "      <th>HDL_Cholesterol</th>\n",
       "      <th>LDL_Cholesterol</th>\n",
       "      <th>Triglycerides</th>\n",
       "      <th>Symptom</th>\n",
       "    </tr>\n",
       "  </thead>\n",
       "  <tbody>\n",
       "    <tr>\n",
       "      <th>0</th>\n",
       "      <td>1</td>\n",
       "      <td>Female</td>\n",
       "      <td>35</td>\n",
       "      <td>Headache</td>\n",
       "      <td>High</td>\n",
       "      <td>86.0</td>\n",
       "      <td>HTN</td>\n",
       "      <td>5.81</td>\n",
       "      <td>1.59</td>\n",
       "      <td>4.02</td>\n",
       "      <td>1.63</td>\n",
       "      <td>Yes</td>\n",
       "    </tr>\n",
       "    <tr>\n",
       "      <th>1</th>\n",
       "      <td>2</td>\n",
       "      <td>Male</td>\n",
       "      <td>69</td>\n",
       "      <td>Painful Right Ankle</td>\n",
       "      <td>Normal</td>\n",
       "      <td>NaN</td>\n",
       "      <td>Osteoporosis</td>\n",
       "      <td>4.56</td>\n",
       "      <td>1.36</td>\n",
       "      <td>2.84</td>\n",
       "      <td>2.36</td>\n",
       "      <td>No</td>\n",
       "    </tr>\n",
       "    <tr>\n",
       "      <th>2</th>\n",
       "      <td>3</td>\n",
       "      <td>Female</td>\n",
       "      <td>60</td>\n",
       "      <td>Drug refill</td>\n",
       "      <td>Normal</td>\n",
       "      <td>NaN</td>\n",
       "      <td>diabetes</td>\n",
       "      <td>4.01</td>\n",
       "      <td>1.05</td>\n",
       "      <td>2.78</td>\n",
       "      <td>0.99</td>\n",
       "      <td>No</td>\n",
       "    </tr>\n",
       "    <tr>\n",
       "      <th>3</th>\n",
       "      <td>4</td>\n",
       "      <td>Male</td>\n",
       "      <td>44</td>\n",
       "      <td>Flue</td>\n",
       "      <td>Normal</td>\n",
       "      <td>NaN</td>\n",
       "      <td>Covid-19</td>\n",
       "      <td>5.23</td>\n",
       "      <td>1.71</td>\n",
       "      <td>3.50</td>\n",
       "      <td>1.37</td>\n",
       "      <td>No</td>\n",
       "    </tr>\n",
       "    <tr>\n",
       "      <th>4</th>\n",
       "      <td>5</td>\n",
       "      <td>Female</td>\n",
       "      <td>32</td>\n",
       "      <td>Excessive Sweetings</td>\n",
       "      <td>Normal</td>\n",
       "      <td>NaN</td>\n",
       "      <td>Hyperhidosis</td>\n",
       "      <td>6.36</td>\n",
       "      <td>1.18</td>\n",
       "      <td>4.44</td>\n",
       "      <td>2.79</td>\n",
       "      <td>Yes</td>\n",
       "    </tr>\n",
       "  </tbody>\n",
       "</table>\n",
       "</div>"
      ],
      "text/plain": [
       "   PatientID  Gender  Age            Complaint Blood Pressure  Pulse  \\\n",
       "0          1  Female   35             Headache           High   86.0   \n",
       "1          2    Male   69  Painful Right Ankle         Normal    NaN   \n",
       "2          3  Female   60          Drug refill         Normal    NaN   \n",
       "3          4    Male   44                 Flue         Normal    NaN   \n",
       "4          5  Female   32  Excessive Sweetings         Normal    NaN   \n",
       "\n",
       "  ProvisionalDiagnosis  Cholesterol  HDL_Cholesterol  LDL_Cholesterol  \\\n",
       "0                  HTN         5.81             1.59             4.02   \n",
       "1         Osteoporosis         4.56             1.36             2.84   \n",
       "2             diabetes         4.01             1.05             2.78   \n",
       "3             Covid-19         5.23             1.71             3.50   \n",
       "4         Hyperhidosis         6.36             1.18             4.44   \n",
       "\n",
       "   Triglycerides Symptom  \n",
       "0           1.63     Yes  \n",
       "1           2.36      No  \n",
       "2           0.99      No  \n",
       "3           1.37      No  \n",
       "4           2.79     Yes  "
      ]
     },
     "execution_count": 83,
     "metadata": {},
     "output_type": "execute_result"
    }
   ],
   "source": [
    "df =pd.read_csv(\"cholesterol50.csv\")\n",
    "df.head()"
   ]
  },
  {
   "cell_type": "code",
   "execution_count": 84,
   "id": "2299b242",
   "metadata": {},
   "outputs": [
    {
     "data": {
      "text/html": [
       "<div>\n",
       "<style scoped>\n",
       "    .dataframe tbody tr th:only-of-type {\n",
       "        vertical-align: middle;\n",
       "    }\n",
       "\n",
       "    .dataframe tbody tr th {\n",
       "        vertical-align: top;\n",
       "    }\n",
       "\n",
       "    .dataframe thead th {\n",
       "        text-align: right;\n",
       "    }\n",
       "</style>\n",
       "<table border=\"1\" class=\"dataframe\">\n",
       "  <thead>\n",
       "    <tr style=\"text-align: right;\">\n",
       "      <th></th>\n",
       "      <th>Gender</th>\n",
       "      <th>Age</th>\n",
       "      <th>Blood Pressure</th>\n",
       "      <th>Cholesterol</th>\n",
       "      <th>HDL_Cholesterol</th>\n",
       "      <th>LDL_Cholesterol</th>\n",
       "      <th>Triglycerides</th>\n",
       "      <th>Symptom</th>\n",
       "    </tr>\n",
       "  </thead>\n",
       "  <tbody>\n",
       "    <tr>\n",
       "      <th>0</th>\n",
       "      <td>Female</td>\n",
       "      <td>35</td>\n",
       "      <td>High</td>\n",
       "      <td>5.81</td>\n",
       "      <td>1.59</td>\n",
       "      <td>4.02</td>\n",
       "      <td>1.63</td>\n",
       "      <td>Yes</td>\n",
       "    </tr>\n",
       "    <tr>\n",
       "      <th>1</th>\n",
       "      <td>Male</td>\n",
       "      <td>69</td>\n",
       "      <td>Normal</td>\n",
       "      <td>4.56</td>\n",
       "      <td>1.36</td>\n",
       "      <td>2.84</td>\n",
       "      <td>2.36</td>\n",
       "      <td>No</td>\n",
       "    </tr>\n",
       "    <tr>\n",
       "      <th>2</th>\n",
       "      <td>Female</td>\n",
       "      <td>60</td>\n",
       "      <td>Normal</td>\n",
       "      <td>4.01</td>\n",
       "      <td>1.05</td>\n",
       "      <td>2.78</td>\n",
       "      <td>0.99</td>\n",
       "      <td>No</td>\n",
       "    </tr>\n",
       "    <tr>\n",
       "      <th>3</th>\n",
       "      <td>Male</td>\n",
       "      <td>44</td>\n",
       "      <td>Normal</td>\n",
       "      <td>5.23</td>\n",
       "      <td>1.71</td>\n",
       "      <td>3.50</td>\n",
       "      <td>1.37</td>\n",
       "      <td>No</td>\n",
       "    </tr>\n",
       "    <tr>\n",
       "      <th>4</th>\n",
       "      <td>Female</td>\n",
       "      <td>32</td>\n",
       "      <td>Normal</td>\n",
       "      <td>6.36</td>\n",
       "      <td>1.18</td>\n",
       "      <td>4.44</td>\n",
       "      <td>2.79</td>\n",
       "      <td>Yes</td>\n",
       "    </tr>\n",
       "  </tbody>\n",
       "</table>\n",
       "</div>"
      ],
      "text/plain": [
       "   Gender  Age Blood Pressure  Cholesterol  HDL_Cholesterol  LDL_Cholesterol  \\\n",
       "0  Female   35           High         5.81             1.59             4.02   \n",
       "1    Male   69         Normal         4.56             1.36             2.84   \n",
       "2  Female   60         Normal         4.01             1.05             2.78   \n",
       "3    Male   44         Normal         5.23             1.71             3.50   \n",
       "4  Female   32         Normal         6.36             1.18             4.44   \n",
       "\n",
       "   Triglycerides Symptom  \n",
       "0           1.63     Yes  \n",
       "1           2.36      No  \n",
       "2           0.99      No  \n",
       "3           1.37      No  \n",
       "4           2.79     Yes  "
      ]
     },
     "execution_count": 84,
     "metadata": {},
     "output_type": "execute_result"
    }
   ],
   "source": [
    "dfc= df[['Gender','Age','Blood Pressure','Cholesterol','HDL_Cholesterol','LDL_Cholesterol','Triglycerides','Symptom' ]]\n",
    "dfc.head()"
   ]
  },
  {
   "cell_type": "markdown",
   "id": "bd84fa8c",
   "metadata": {},
   "source": [
    "<b> Lets convert male to 0 and female to 1:</b>"
   ]
  },
  {
   "cell_type": "code",
   "execution_count": 85,
   "id": "50bc99c2",
   "metadata": {},
   "outputs": [
    {
     "name": "stderr",
     "output_type": "stream",
     "text": [
      "C:\\Users\\user\\anaconda3\\lib\\site-packages\\pandas\\core\\generic.py:6619: SettingWithCopyWarning: \n",
      "A value is trying to be set on a copy of a slice from a DataFrame\n",
      "\n",
      "See the caveats in the documentation: https://pandas.pydata.org/pandas-docs/stable/user_guide/indexing.html#returning-a-view-versus-a-copy\n",
      "  return self._update_inplace(result)\n"
     ]
    },
    {
     "data": {
      "text/html": [
       "<div>\n",
       "<style scoped>\n",
       "    .dataframe tbody tr th:only-of-type {\n",
       "        vertical-align: middle;\n",
       "    }\n",
       "\n",
       "    .dataframe tbody tr th {\n",
       "        vertical-align: top;\n",
       "    }\n",
       "\n",
       "    .dataframe thead th {\n",
       "        text-align: right;\n",
       "    }\n",
       "</style>\n",
       "<table border=\"1\" class=\"dataframe\">\n",
       "  <thead>\n",
       "    <tr style=\"text-align: right;\">\n",
       "      <th></th>\n",
       "      <th>Gender</th>\n",
       "      <th>Age</th>\n",
       "      <th>Blood Pressure</th>\n",
       "      <th>Cholesterol</th>\n",
       "      <th>HDL_Cholesterol</th>\n",
       "      <th>LDL_Cholesterol</th>\n",
       "      <th>Triglycerides</th>\n",
       "      <th>Symptom</th>\n",
       "    </tr>\n",
       "  </thead>\n",
       "  <tbody>\n",
       "    <tr>\n",
       "      <th>0</th>\n",
       "      <td>1</td>\n",
       "      <td>35</td>\n",
       "      <td>2</td>\n",
       "      <td>5.81</td>\n",
       "      <td>1.59</td>\n",
       "      <td>4.02</td>\n",
       "      <td>1.63</td>\n",
       "      <td>1</td>\n",
       "    </tr>\n",
       "    <tr>\n",
       "      <th>1</th>\n",
       "      <td>0</td>\n",
       "      <td>69</td>\n",
       "      <td>1</td>\n",
       "      <td>4.56</td>\n",
       "      <td>1.36</td>\n",
       "      <td>2.84</td>\n",
       "      <td>2.36</td>\n",
       "      <td>0</td>\n",
       "    </tr>\n",
       "    <tr>\n",
       "      <th>2</th>\n",
       "      <td>1</td>\n",
       "      <td>60</td>\n",
       "      <td>1</td>\n",
       "      <td>4.01</td>\n",
       "      <td>1.05</td>\n",
       "      <td>2.78</td>\n",
       "      <td>0.99</td>\n",
       "      <td>0</td>\n",
       "    </tr>\n",
       "    <tr>\n",
       "      <th>3</th>\n",
       "      <td>0</td>\n",
       "      <td>44</td>\n",
       "      <td>1</td>\n",
       "      <td>5.23</td>\n",
       "      <td>1.71</td>\n",
       "      <td>3.50</td>\n",
       "      <td>1.37</td>\n",
       "      <td>0</td>\n",
       "    </tr>\n",
       "    <tr>\n",
       "      <th>4</th>\n",
       "      <td>1</td>\n",
       "      <td>32</td>\n",
       "      <td>1</td>\n",
       "      <td>6.36</td>\n",
       "      <td>1.18</td>\n",
       "      <td>4.44</td>\n",
       "      <td>2.79</td>\n",
       "      <td>1</td>\n",
       "    </tr>\n",
       "  </tbody>\n",
       "</table>\n",
       "</div>"
      ],
      "text/plain": [
       "  Gender  Age  Blood Pressure  Cholesterol  HDL_Cholesterol  LDL_Cholesterol  \\\n",
       "0      1   35               2         5.81             1.59             4.02   \n",
       "1      0   69               1         4.56             1.36             2.84   \n",
       "2      1   60               1         4.01             1.05             2.78   \n",
       "3      0   44               1         5.23             1.71             3.50   \n",
       "4      1   32               1         6.36             1.18             4.44   \n",
       "\n",
       "   Triglycerides  Symptom  \n",
       "0           1.63        1  \n",
       "1           2.36        0  \n",
       "2           0.99        0  \n",
       "3           1.37        0  \n",
       "4           2.79        1  "
      ]
     },
     "execution_count": 85,
     "metadata": {},
     "output_type": "execute_result"
    }
   ],
   "source": [
    "dfc['Gender'].replace(to_replace=['Male','Female'], value=[0,1], inplace=True)\n",
    "dfc['Symptom'].replace(to_replace=['No','Yes'], value=[0,1], inplace=True)\n",
    "dfc['Blood Pressure'].replace(to_replace=['Low','Normal','High'], value=[0,1,2], inplace=True)\n",
    "dfc.head()\n"
   ]
  },
  {
   "cell_type": "code",
   "execution_count": 86,
   "id": "225ae1c5",
   "metadata": {},
   "outputs": [
    {
     "data": {
      "text/html": [
       "<div>\n",
       "<style scoped>\n",
       "    .dataframe tbody tr th:only-of-type {\n",
       "        vertical-align: middle;\n",
       "    }\n",
       "\n",
       "    .dataframe tbody tr th {\n",
       "        vertical-align: top;\n",
       "    }\n",
       "\n",
       "    .dataframe thead th {\n",
       "        text-align: right;\n",
       "    }\n",
       "</style>\n",
       "<table border=\"1\" class=\"dataframe\">\n",
       "  <thead>\n",
       "    <tr style=\"text-align: right;\">\n",
       "      <th></th>\n",
       "      <th>Age</th>\n",
       "      <th>Blood Pressure</th>\n",
       "      <th>Cholesterol</th>\n",
       "      <th>HDL_Cholesterol</th>\n",
       "      <th>LDL_Cholesterol</th>\n",
       "      <th>Triglycerides</th>\n",
       "      <th>Symptom</th>\n",
       "    </tr>\n",
       "  </thead>\n",
       "  <tbody>\n",
       "    <tr>\n",
       "      <th>count</th>\n",
       "      <td>50.000000</td>\n",
       "      <td>50.000000</td>\n",
       "      <td>50.000000</td>\n",
       "      <td>50.000000</td>\n",
       "      <td>50.000000</td>\n",
       "      <td>50.000000</td>\n",
       "      <td>50.000000</td>\n",
       "    </tr>\n",
       "    <tr>\n",
       "      <th>mean</th>\n",
       "      <td>49.740000</td>\n",
       "      <td>1.420000</td>\n",
       "      <td>4.632600</td>\n",
       "      <td>1.264800</td>\n",
       "      <td>2.986800</td>\n",
       "      <td>1.667200</td>\n",
       "      <td>0.180000</td>\n",
       "    </tr>\n",
       "    <tr>\n",
       "      <th>std</th>\n",
       "      <td>14.004096</td>\n",
       "      <td>0.537948</td>\n",
       "      <td>1.062302</td>\n",
       "      <td>0.284068</td>\n",
       "      <td>0.915946</td>\n",
       "      <td>0.961048</td>\n",
       "      <td>0.388088</td>\n",
       "    </tr>\n",
       "    <tr>\n",
       "      <th>min</th>\n",
       "      <td>25.000000</td>\n",
       "      <td>0.000000</td>\n",
       "      <td>2.030000</td>\n",
       "      <td>0.710000</td>\n",
       "      <td>0.820000</td>\n",
       "      <td>0.610000</td>\n",
       "      <td>0.000000</td>\n",
       "    </tr>\n",
       "    <tr>\n",
       "      <th>25%</th>\n",
       "      <td>41.000000</td>\n",
       "      <td>1.000000</td>\n",
       "      <td>3.860000</td>\n",
       "      <td>1.110000</td>\n",
       "      <td>2.337500</td>\n",
       "      <td>1.055000</td>\n",
       "      <td>0.000000</td>\n",
       "    </tr>\n",
       "    <tr>\n",
       "      <th>50%</th>\n",
       "      <td>49.000000</td>\n",
       "      <td>1.000000</td>\n",
       "      <td>4.720000</td>\n",
       "      <td>1.245000</td>\n",
       "      <td>2.895000</td>\n",
       "      <td>1.365000</td>\n",
       "      <td>0.000000</td>\n",
       "    </tr>\n",
       "    <tr>\n",
       "      <th>75%</th>\n",
       "      <td>59.000000</td>\n",
       "      <td>2.000000</td>\n",
       "      <td>5.330000</td>\n",
       "      <td>1.410000</td>\n",
       "      <td>3.610000</td>\n",
       "      <td>1.997500</td>\n",
       "      <td>0.000000</td>\n",
       "    </tr>\n",
       "    <tr>\n",
       "      <th>max</th>\n",
       "      <td>87.000000</td>\n",
       "      <td>2.000000</td>\n",
       "      <td>6.750000</td>\n",
       "      <td>2.010000</td>\n",
       "      <td>4.910000</td>\n",
       "      <td>4.840000</td>\n",
       "      <td>1.000000</td>\n",
       "    </tr>\n",
       "  </tbody>\n",
       "</table>\n",
       "</div>"
      ],
      "text/plain": [
       "             Age  Blood Pressure  Cholesterol  HDL_Cholesterol  \\\n",
       "count  50.000000       50.000000    50.000000        50.000000   \n",
       "mean   49.740000        1.420000     4.632600         1.264800   \n",
       "std    14.004096        0.537948     1.062302         0.284068   \n",
       "min    25.000000        0.000000     2.030000         0.710000   \n",
       "25%    41.000000        1.000000     3.860000         1.110000   \n",
       "50%    49.000000        1.000000     4.720000         1.245000   \n",
       "75%    59.000000        2.000000     5.330000         1.410000   \n",
       "max    87.000000        2.000000     6.750000         2.010000   \n",
       "\n",
       "       LDL_Cholesterol  Triglycerides    Symptom  \n",
       "count        50.000000      50.000000  50.000000  \n",
       "mean          2.986800       1.667200   0.180000  \n",
       "std           0.915946       0.961048   0.388088  \n",
       "min           0.820000       0.610000   0.000000  \n",
       "25%           2.337500       1.055000   0.000000  \n",
       "50%           2.895000       1.365000   0.000000  \n",
       "75%           3.610000       1.997500   0.000000  \n",
       "max           4.910000       4.840000   1.000000  "
      ]
     },
     "execution_count": 86,
     "metadata": {},
     "output_type": "execute_result"
    }
   ],
   "source": [
    "dfc.describe()"
   ]
  },
  {
   "cell_type": "code",
   "execution_count": 87,
   "id": "dd52cb52",
   "metadata": {},
   "outputs": [
    {
     "data": {
      "text/html": [
       "<div>\n",
       "<style scoped>\n",
       "    .dataframe tbody tr th:only-of-type {\n",
       "        vertical-align: middle;\n",
       "    }\n",
       "\n",
       "    .dataframe tbody tr th {\n",
       "        vertical-align: top;\n",
       "    }\n",
       "\n",
       "    .dataframe thead th {\n",
       "        text-align: right;\n",
       "    }\n",
       "</style>\n",
       "<table border=\"1\" class=\"dataframe\">\n",
       "  <thead>\n",
       "    <tr style=\"text-align: right;\">\n",
       "      <th></th>\n",
       "      <th>Age</th>\n",
       "      <th>Blood Pressure</th>\n",
       "      <th>Cholesterol</th>\n",
       "      <th>HDL_Cholesterol</th>\n",
       "      <th>LDL_Cholesterol</th>\n",
       "      <th>Triglycerides</th>\n",
       "      <th>Symptom</th>\n",
       "    </tr>\n",
       "  </thead>\n",
       "  <tbody>\n",
       "    <tr>\n",
       "      <th>Age</th>\n",
       "      <td>1.000000</td>\n",
       "      <td>-0.066479</td>\n",
       "      <td>-0.004659</td>\n",
       "      <td>0.161200</td>\n",
       "      <td>0.011326</td>\n",
       "      <td>-0.023847</td>\n",
       "      <td>-0.107620</td>\n",
       "    </tr>\n",
       "    <tr>\n",
       "      <th>Blood Pressure</th>\n",
       "      <td>-0.066479</td>\n",
       "      <td>1.000000</td>\n",
       "      <td>0.116257</td>\n",
       "      <td>0.112074</td>\n",
       "      <td>0.104259</td>\n",
       "      <td>-0.085313</td>\n",
       "      <td>0.119260</td>\n",
       "    </tr>\n",
       "    <tr>\n",
       "      <th>Cholesterol</th>\n",
       "      <td>-0.004659</td>\n",
       "      <td>0.116257</td>\n",
       "      <td>1.000000</td>\n",
       "      <td>0.244457</td>\n",
       "      <td>0.815957</td>\n",
       "      <td>0.475194</td>\n",
       "      <td>0.584455</td>\n",
       "    </tr>\n",
       "    <tr>\n",
       "      <th>HDL_Cholesterol</th>\n",
       "      <td>0.161200</td>\n",
       "      <td>0.112074</td>\n",
       "      <td>0.244457</td>\n",
       "      <td>1.000000</td>\n",
       "      <td>0.231162</td>\n",
       "      <td>-0.295289</td>\n",
       "      <td>0.090116</td>\n",
       "    </tr>\n",
       "    <tr>\n",
       "      <th>LDL_Cholesterol</th>\n",
       "      <td>0.011326</td>\n",
       "      <td>0.104259</td>\n",
       "      <td>0.815957</td>\n",
       "      <td>0.231162</td>\n",
       "      <td>1.000000</td>\n",
       "      <td>0.141438</td>\n",
       "      <td>0.679117</td>\n",
       "    </tr>\n",
       "    <tr>\n",
       "      <th>Triglycerides</th>\n",
       "      <td>-0.023847</td>\n",
       "      <td>-0.085313</td>\n",
       "      <td>0.475194</td>\n",
       "      <td>-0.295289</td>\n",
       "      <td>0.141438</td>\n",
       "      <td>1.000000</td>\n",
       "      <td>0.085644</td>\n",
       "    </tr>\n",
       "    <tr>\n",
       "      <th>Symptom</th>\n",
       "      <td>-0.107620</td>\n",
       "      <td>0.119260</td>\n",
       "      <td>0.584455</td>\n",
       "      <td>0.090116</td>\n",
       "      <td>0.679117</td>\n",
       "      <td>0.085644</td>\n",
       "      <td>1.000000</td>\n",
       "    </tr>\n",
       "  </tbody>\n",
       "</table>\n",
       "</div>"
      ],
      "text/plain": [
       "                      Age  Blood Pressure  Cholesterol  HDL_Cholesterol  \\\n",
       "Age              1.000000       -0.066479    -0.004659         0.161200   \n",
       "Blood Pressure  -0.066479        1.000000     0.116257         0.112074   \n",
       "Cholesterol     -0.004659        0.116257     1.000000         0.244457   \n",
       "HDL_Cholesterol  0.161200        0.112074     0.244457         1.000000   \n",
       "LDL_Cholesterol  0.011326        0.104259     0.815957         0.231162   \n",
       "Triglycerides   -0.023847       -0.085313     0.475194        -0.295289   \n",
       "Symptom         -0.107620        0.119260     0.584455         0.090116   \n",
       "\n",
       "                 LDL_Cholesterol  Triglycerides   Symptom  \n",
       "Age                     0.011326      -0.023847 -0.107620  \n",
       "Blood Pressure          0.104259      -0.085313  0.119260  \n",
       "Cholesterol             0.815957       0.475194  0.584455  \n",
       "HDL_Cholesterol         0.231162      -0.295289  0.090116  \n",
       "LDL_Cholesterol         1.000000       0.141438  0.679117  \n",
       "Triglycerides           0.141438       1.000000  0.085644  \n",
       "Symptom                 0.679117       0.085644  1.000000  "
      ]
     },
     "execution_count": 87,
     "metadata": {},
     "output_type": "execute_result"
    }
   ],
   "source": [
    "dfc.corr()"
   ]
  },
  {
   "cell_type": "code",
   "execution_count": 88,
   "id": "ec48a1ba",
   "metadata": {},
   "outputs": [],
   "source": [
    "import seaborn as sns"
   ]
  },
  {
   "cell_type": "code",
   "execution_count": 89,
   "id": "2bedd0b1",
   "metadata": {},
   "outputs": [
    {
     "data": {
      "text/html": [
       "<div>\n",
       "<style scoped>\n",
       "    .dataframe tbody tr th:only-of-type {\n",
       "        vertical-align: middle;\n",
       "    }\n",
       "\n",
       "    .dataframe tbody tr th {\n",
       "        vertical-align: top;\n",
       "    }\n",
       "\n",
       "    .dataframe thead th {\n",
       "        text-align: right;\n",
       "    }\n",
       "</style>\n",
       "<table border=\"1\" class=\"dataframe\">\n",
       "  <thead>\n",
       "    <tr style=\"text-align: right;\">\n",
       "      <th></th>\n",
       "      <th>PatientID</th>\n",
       "      <th>Gender</th>\n",
       "      <th>Age</th>\n",
       "      <th>Complaint</th>\n",
       "      <th>Blood Pressure</th>\n",
       "      <th>Pulse</th>\n",
       "      <th>ProvisionalDiagnosis</th>\n",
       "      <th>Cholesterol</th>\n",
       "      <th>HDL_Cholesterol</th>\n",
       "      <th>LDL_Cholesterol</th>\n",
       "      <th>Triglycerides</th>\n",
       "      <th>Symptom</th>\n",
       "    </tr>\n",
       "  </thead>\n",
       "  <tbody>\n",
       "    <tr>\n",
       "      <th>0</th>\n",
       "      <td>1</td>\n",
       "      <td>Female</td>\n",
       "      <td>35</td>\n",
       "      <td>Headache</td>\n",
       "      <td>High</td>\n",
       "      <td>86.0</td>\n",
       "      <td>HTN</td>\n",
       "      <td>5.81</td>\n",
       "      <td>1.59</td>\n",
       "      <td>4.02</td>\n",
       "      <td>1.63</td>\n",
       "      <td>Yes</td>\n",
       "    </tr>\n",
       "    <tr>\n",
       "      <th>1</th>\n",
       "      <td>2</td>\n",
       "      <td>Male</td>\n",
       "      <td>69</td>\n",
       "      <td>Painful Right Ankle</td>\n",
       "      <td>Normal</td>\n",
       "      <td>NaN</td>\n",
       "      <td>Osteoporosis</td>\n",
       "      <td>4.56</td>\n",
       "      <td>1.36</td>\n",
       "      <td>2.84</td>\n",
       "      <td>2.36</td>\n",
       "      <td>No</td>\n",
       "    </tr>\n",
       "    <tr>\n",
       "      <th>2</th>\n",
       "      <td>3</td>\n",
       "      <td>Female</td>\n",
       "      <td>60</td>\n",
       "      <td>Drug refill</td>\n",
       "      <td>Normal</td>\n",
       "      <td>NaN</td>\n",
       "      <td>diabetes</td>\n",
       "      <td>4.01</td>\n",
       "      <td>1.05</td>\n",
       "      <td>2.78</td>\n",
       "      <td>0.99</td>\n",
       "      <td>No</td>\n",
       "    </tr>\n",
       "    <tr>\n",
       "      <th>3</th>\n",
       "      <td>4</td>\n",
       "      <td>Male</td>\n",
       "      <td>44</td>\n",
       "      <td>Flue</td>\n",
       "      <td>Normal</td>\n",
       "      <td>NaN</td>\n",
       "      <td>Covid-19</td>\n",
       "      <td>5.23</td>\n",
       "      <td>1.71</td>\n",
       "      <td>3.50</td>\n",
       "      <td>1.37</td>\n",
       "      <td>No</td>\n",
       "    </tr>\n",
       "    <tr>\n",
       "      <th>4</th>\n",
       "      <td>5</td>\n",
       "      <td>Female</td>\n",
       "      <td>32</td>\n",
       "      <td>Excessive Sweetings</td>\n",
       "      <td>Normal</td>\n",
       "      <td>NaN</td>\n",
       "      <td>Hyperhidosis</td>\n",
       "      <td>6.36</td>\n",
       "      <td>1.18</td>\n",
       "      <td>4.44</td>\n",
       "      <td>2.79</td>\n",
       "      <td>Yes</td>\n",
       "    </tr>\n",
       "  </tbody>\n",
       "</table>\n",
       "</div>"
      ],
      "text/plain": [
       "   PatientID  Gender  Age            Complaint Blood Pressure  Pulse  \\\n",
       "0          1  Female   35             Headache           High   86.0   \n",
       "1          2    Male   69  Painful Right Ankle         Normal    NaN   \n",
       "2          3  Female   60          Drug refill         Normal    NaN   \n",
       "3          4    Male   44                 Flue         Normal    NaN   \n",
       "4          5  Female   32  Excessive Sweetings         Normal    NaN   \n",
       "\n",
       "  ProvisionalDiagnosis  Cholesterol  HDL_Cholesterol  LDL_Cholesterol  \\\n",
       "0                  HTN         5.81             1.59             4.02   \n",
       "1         Osteoporosis         4.56             1.36             2.84   \n",
       "2             diabetes         4.01             1.05             2.78   \n",
       "3             Covid-19         5.23             1.71             3.50   \n",
       "4         Hyperhidosis         6.36             1.18             4.44   \n",
       "\n",
       "   Triglycerides Symptom  \n",
       "0           1.63     Yes  \n",
       "1           2.36      No  \n",
       "2           0.99      No  \n",
       "3           1.37      No  \n",
       "4           2.79     Yes  "
      ]
     },
     "execution_count": 89,
     "metadata": {},
     "output_type": "execute_result"
    }
   ],
   "source": [
    "df.head()"
   ]
  },
  {
   "cell_type": "code",
   "execution_count": 90,
   "id": "d4250d37",
   "metadata": {},
   "outputs": [
    {
     "data": {
      "text/html": [
       "<div>\n",
       "<style scoped>\n",
       "    .dataframe tbody tr th:only-of-type {\n",
       "        vertical-align: middle;\n",
       "    }\n",
       "\n",
       "    .dataframe tbody tr th {\n",
       "        vertical-align: top;\n",
       "    }\n",
       "\n",
       "    .dataframe thead th {\n",
       "        text-align: right;\n",
       "    }\n",
       "</style>\n",
       "<table border=\"1\" class=\"dataframe\">\n",
       "  <thead>\n",
       "    <tr style=\"text-align: right;\">\n",
       "      <th></th>\n",
       "      <th>Age</th>\n",
       "      <th>Cholesterol</th>\n",
       "      <th>HDL_Cholesterol</th>\n",
       "      <th>LDL_Cholesterol</th>\n",
       "      <th>Triglycerides</th>\n",
       "    </tr>\n",
       "  </thead>\n",
       "  <tbody>\n",
       "    <tr>\n",
       "      <th>Age</th>\n",
       "      <td>1.000000</td>\n",
       "      <td>-0.004659</td>\n",
       "      <td>0.161200</td>\n",
       "      <td>0.011326</td>\n",
       "      <td>-0.023847</td>\n",
       "    </tr>\n",
       "    <tr>\n",
       "      <th>Cholesterol</th>\n",
       "      <td>-0.004659</td>\n",
       "      <td>1.000000</td>\n",
       "      <td>0.244457</td>\n",
       "      <td>0.815957</td>\n",
       "      <td>0.475194</td>\n",
       "    </tr>\n",
       "    <tr>\n",
       "      <th>HDL_Cholesterol</th>\n",
       "      <td>0.161200</td>\n",
       "      <td>0.244457</td>\n",
       "      <td>1.000000</td>\n",
       "      <td>0.231162</td>\n",
       "      <td>-0.295289</td>\n",
       "    </tr>\n",
       "    <tr>\n",
       "      <th>LDL_Cholesterol</th>\n",
       "      <td>0.011326</td>\n",
       "      <td>0.815957</td>\n",
       "      <td>0.231162</td>\n",
       "      <td>1.000000</td>\n",
       "      <td>0.141438</td>\n",
       "    </tr>\n",
       "    <tr>\n",
       "      <th>Triglycerides</th>\n",
       "      <td>-0.023847</td>\n",
       "      <td>0.475194</td>\n",
       "      <td>-0.295289</td>\n",
       "      <td>0.141438</td>\n",
       "      <td>1.000000</td>\n",
       "    </tr>\n",
       "  </tbody>\n",
       "</table>\n",
       "</div>"
      ],
      "text/plain": [
       "                      Age  Cholesterol  HDL_Cholesterol  LDL_Cholesterol  \\\n",
       "Age              1.000000    -0.004659         0.161200         0.011326   \n",
       "Cholesterol     -0.004659     1.000000         0.244457         0.815957   \n",
       "HDL_Cholesterol  0.161200     0.244457         1.000000         0.231162   \n",
       "LDL_Cholesterol  0.011326     0.815957         0.231162         1.000000   \n",
       "Triglycerides   -0.023847     0.475194        -0.295289         0.141438   \n",
       "\n",
       "                 Triglycerides  \n",
       "Age                  -0.023847  \n",
       "Cholesterol           0.475194  \n",
       "HDL_Cholesterol      -0.295289  \n",
       "LDL_Cholesterol       0.141438  \n",
       "Triglycerides         1.000000  "
      ]
     },
     "execution_count": 90,
     "metadata": {},
     "output_type": "execute_result"
    }
   ],
   "source": [
    "# Write your code below and press Shift+Enter to execute \n",
    "df[['Age', 'Cholesterol', 'HDL_Cholesterol', 'LDL_Cholesterol','Triglycerides']].corr()  "
   ]
  },
  {
   "cell_type": "markdown",
   "id": "1d1535bf",
   "metadata": {},
   "source": [
    "<h2> Continuous numerical variables:</h2>"
   ]
  },
  {
   "cell_type": "markdown",
   "id": "f3109ab4",
   "metadata": {},
   "source": [
    "<b> Positive linear relationship between Cholesterol and LDL_Cholesterol </b>"
   ]
  },
  {
   "cell_type": "markdown",
   "id": "01345ec9",
   "metadata": {},
   "source": [
    "Let's find the scatterplot of \"Cholesterol\" and \"LDL_Cholesterol\"\n"
   ]
  },
  {
   "cell_type": "code",
   "execution_count": 91,
   "id": "53491e46",
   "metadata": {},
   "outputs": [
    {
     "data": {
      "text/plain": [
       "(0.0, 5.116297220435507)"
      ]
     },
     "execution_count": 91,
     "metadata": {},
     "output_type": "execute_result"
    },
    {
     "data": {
      "image/png": "[encoded data removed]",
      "text/plain": [
       "<Figure size 432x288 with 1 Axes>"
      ]
     },
     "metadata": {
      "needs_background": "light"
     },
     "output_type": "display_data"
    }
   ],
   "source": [
    "# Cholesterol as potential predictor variable of LDL_Cholesterol\n",
    "sns.regplot(x=\"Cholesterol\", y=\"LDL_Cholesterol\", data=df)\n",
    "plt.ylim(0,)"
   ]
  },
  {
   "cell_type": "markdown",
   "id": "3f349c36",
   "metadata": {},
   "source": [
    "<b>Let plot a scatter digram</b>"
   ]
  },
  {
   "cell_type": "code",
   "execution_count": 92,
   "id": "5f2fcd9b",
   "metadata": {},
   "outputs": [
    {
     "data": {
      "image/png": "[encoded data removed]",
      "text/plain": [
       "<Figure size 432x288 with 1 Axes>"
      ]
     },
     "metadata": {
      "needs_background": "light"
     },
     "output_type": "display_data"
    }
   ],
   "source": [
    "plt.scatter(dfc.Cholesterol, dfc.LDL_Cholesterol, color ='blue')\n",
    "plt.xlabel(\"Cholesterol\")\n",
    "plt.ylabel(\"LDL_Cholesterol\")\n",
    "plt.show()\n"
   ]
  },
  {
   "cell_type": "markdown",
   "id": "22315de0",
   "metadata": {},
   "source": [
    "<b>Creating train and test dataset </b>"
   ]
  },
  {
   "cell_type": "code",
   "execution_count": 104,
   "id": "98ee3481",
   "metadata": {},
   "outputs": [],
   "source": [
    "msk = np.random.rand(len(dfc)) < 0.8\n",
    "train = dfc[msk]\n",
    "test = dfc[~msk]"
   ]
  },
  {
   "cell_type": "code",
   "execution_count": 94,
   "id": "fcdf5281",
   "metadata": {},
   "outputs": [
    {
     "data": {
      "image/png": "[encoded data removed]",
      "text/plain": [
       "<Figure size 432x288 with 1 Axes>"
      ]
     },
     "metadata": {
      "needs_background": "light"
     },
     "output_type": "display_data"
    }
   ],
   "source": [
    "plt.scatter(train.Cholesterol, train.LDL_Cholesterol, color ='blue')\n",
    "plt.xlabel(\"Cholesterol\")\n",
    "plt.ylabel(\"LDL_Cholesterol\")\n",
    "plt.show()"
   ]
  },
  {
   "cell_type": "code",
   "execution_count": 95,
   "id": "8b13f4cb",
   "metadata": {},
   "outputs": [],
   "source": [
    "from sklearn.linear_model import LinearRegression"
   ]
  },
  {
   "cell_type": "code",
   "execution_count": 96,
   "id": "f721975f",
   "metadata": {},
   "outputs": [
    {
     "data": {
      "text/plain": [
       "LinearRegression()"
      ]
     },
     "execution_count": 96,
     "metadata": {},
     "output_type": "execute_result"
    }
   ],
   "source": [
    "lm = LinearRegression()\n",
    "lm"
   ]
  },
  {
   "cell_type": "markdown",
   "id": "1e056e65",
   "metadata": {},
   "source": [
    "<b> Modeling</b>: Using sklearn package to model data."
   ]
  },
  {
   "cell_type": "code",
   "execution_count": 97,
   "id": "32771623",
   "metadata": {},
   "outputs": [],
   "source": [
    "X = dfc[['Cholesterol']]\n",
    "Y = dfc['LDL_Cholesterol']\n"
   ]
  },
  {
   "cell_type": "code",
   "execution_count": 99,
   "id": "a51410b7",
   "metadata": {},
   "outputs": [
    {
     "data": {
      "text/plain": [
       "LinearRegression()"
      ]
     },
     "execution_count": 99,
     "metadata": {},
     "output_type": "execute_result"
    }
   ],
   "source": [
    "lm.fit(X,Y)"
   ]
  },
  {
   "cell_type": "code",
   "execution_count": 100,
   "id": "b81282e6",
   "metadata": {},
   "outputs": [
    {
     "data": {
      "text/plain": [
       "array([3.81514875, 2.93572295, 2.5487756 , 3.40709518, 4.20209611])"
      ]
     },
     "execution_count": 100,
     "metadata": {},
     "output_type": "execute_result"
    }
   ],
   "source": [
    "Yhat=lm.predict(X)\n",
    "Yhat[0:5]  "
   ]
  },
  {
   "cell_type": "code",
   "execution_count": 101,
   "id": "552f6d97",
   "metadata": {},
   "outputs": [
    {
     "data": {
      "text/plain": [
       "-0.2724223867282971"
      ]
     },
     "execution_count": 101,
     "metadata": {},
     "output_type": "execute_result"
    }
   ],
   "source": [
    "lm.intercept_"
   ]
  },
  {
   "cell_type": "code",
   "execution_count": 102,
   "id": "b166f663",
   "metadata": {},
   "outputs": [
    {
     "data": {
      "text/plain": [
       "array([0.70354064])"
      ]
     },
     "execution_count": 102,
     "metadata": {},
     "output_type": "execute_result"
    }
   ],
   "source": [
    "lm.coef_"
   ]
  },
  {
   "cell_type": "code",
   "execution_count": 107,
   "id": "2491a8bd",
   "metadata": {},
   "outputs": [
    {
     "name": "stdout",
     "output_type": "stream",
     "text": [
      "Coefficients:  [[0.72620922]]\n",
      "Intercept:  [-0.36249974]\n"
     ]
    }
   ],
   "source": [
    "from sklearn import linear_model\n",
    "regr = linear_model.LinearRegression()\n",
    "train_x = np.asanyarray(train[['Cholesterol']])\n",
    "train_y = np.asanyarray(train[['LDL_Cholesterol']])\n",
    "regr.fit (train_x, train_y)\n",
    "# The coefficients\n",
    "print ('Coefficients: ', regr.coef_)\n",
    "\n",
    "print ('Intercept: ',regr.intercept_)\n"
   ]
  },
  {
   "cell_type": "code",
   "execution_count": 108,
   "id": "975843e2",
   "metadata": {},
   "outputs": [
    {
     "data": {
      "text/plain": [
       "Text(0, 0.5, 'LDL_Cholesterol')"
      ]
     },
     "execution_count": 108,
     "metadata": {},
     "output_type": "execute_result"
    },
    {
     "data": {
      "image/png": "[encoded data removed]",
      "text/plain": [
       "<Figure size 432x288 with 1 Axes>"
      ]
     },
     "metadata": {
      "needs_background": "light"
     },
     "output_type": "display_data"
    }
   ],
   "source": [
    "plt.scatter(train.Cholesterol, train.LDL_Cholesterol,color='blue')\n",
    "plt.plot(train_x, regr.coef_[0][0]*train_x + regr.intercept_[0], '-r')\n",
    "plt.xlabel(\"Cholesterol\")\n",
    "plt.ylabel(\"LDL_Cholesterol\")\n"
   ]
  },
  {
   "cell_type": "markdown",
   "id": "b336707f",
   "metadata": {},
   "source": [
    "<h2>LDL_Cholesterol = 0.726*Cholesterol -0.362 </h2>"
   ]
  },
  {
   "cell_type": "markdown",
   "id": "c14c44c8",
   "metadata": {},
   "source": [
    "Based on simple linear regression, High Cholestreol level that might be serious is when the cholesterol value is greater than 5.87."
   ]
  },
  {
   "cell_type": "markdown",
   "id": "277f9eb8",
   "metadata": {},
   "source": [
    "<h2> Evaluation of SimpleLinear Regression Model</h2>"
   ]
  },
  {
   "cell_type": "code",
   "execution_count": 110,
   "id": "d298e975",
   "metadata": {},
   "outputs": [
    {
     "name": "stdout",
     "output_type": "stream",
     "text": [
      "Mean absolute error: 0.41\n",
      "Residual sum of squares (MSE): 0.47\n",
      "R2-score: 0.17\n"
     ]
    }
   ],
   "source": [
    "from sklearn.metrics import r2_score\n",
    "test_x = np.asanyarray(test[['Cholesterol']])\n",
    "test_y = np.asanyarray(test[['LDL_Cholesterol']])\n",
    "test_y_hat = regr.predict(test_x)\n",
    "\n",
    "print(\"Mean absolute error: %.2f\" % np.mean(np.absolute(test_y_hat - test_y)))\n",
    "\n",
    "print(\"Residual sum of squares (MSE): %.2f\" % np.mean((test_y_hat - test_y) **2))\n",
    "print(\"R2-score: %.2f\" % r2_score(test_y_hat , test_y) )\n",
    "\n"
   ]
  },
  {
   "cell_type": "markdown",
   "id": "029eee24",
   "metadata": {},
   "source": [
    "The R2-score is 17% because we have used 40 and 10 records for training and testing the algorithm respectively. However, with the 250 records, we hope to come up with higher value of R2-score."
   ]
  },
  {
   "cell_type": "markdown",
   "id": "9fc11c53",
   "metadata": {},
   "source": [
    "<h2> Categorical variables</h2>"
   ]
  },
  {
   "cell_type": "markdown",
   "id": "84f2f814",
   "metadata": {},
   "source": [
    "<b> Let's look at the relationship between \"Complaint\" and \"LDL_Cholesterol\".</b>"
   ]
  },
  {
   "cell_type": "code",
   "execution_count": 18,
   "id": "384460da",
   "metadata": {},
   "outputs": [
    {
     "data": {
      "text/plain": [
       "<AxesSubplot:xlabel='Symptom', ylabel='LDL_Cholesterol'>"
      ]
     },
     "execution_count": 18,
     "metadata": {},
     "output_type": "execute_result"
    },
    {
     "data": {
      "image/png": "[encoded data removed]",
      "text/plain": [
       "<Figure size 432x288 with 1 Axes>"
      ]
     },
     "metadata": {
      "needs_background": "light"
     },
     "output_type": "display_data"
    }
   ],
   "source": [
    "sns.boxplot(x=\"Symptom\", y=\"LDL_Cholesterol\", data=df)"
   ]
  },
  {
   "cell_type": "markdown",
   "id": "9b051145",
   "metadata": {},
   "source": [
    "Patients with sign/symptom of High Cholesterol levels normally have LDL Cholesterol level values of greater than 3.9."
   ]
  },
  {
   "cell_type": "markdown",
   "id": "5b9a253b",
   "metadata": {},
   "source": [
    "<b> Let's look at the relationship between \"Gender\" and \"LDL_Cholesterol\".</b>"
   ]
  },
  {
   "cell_type": "code",
   "execution_count": 21,
   "id": "86694fdf",
   "metadata": {},
   "outputs": [
    {
     "data": {
      "text/plain": [
       "<AxesSubplot:xlabel='Gender', ylabel='LDL_Cholesterol'>"
      ]
     },
     "execution_count": 21,
     "metadata": {},
     "output_type": "execute_result"
    },
    {
     "data": {
      "image/png": "[encoded data removed]",
      "text/plain": [
       "<Figure size 432x288 with 1 Axes>"
      ]
     },
     "metadata": {
      "needs_background": "light"
     },
     "output_type": "display_data"
    }
   ],
   "source": [
    "sns.boxplot(x=\"Gender\", y=\"LDL_Cholesterol\", data=df)"
   ]
  },
  {
   "cell_type": "markdown",
   "id": "fb9c49ed",
   "metadata": {},
   "source": [
    "Although any sex can develope High cholesterol lelvel, majorirty of Female patients have increased sign of High Cholesterol level as seen from the boxplot."
   ]
  },
  {
   "cell_type": "markdown",
   "id": "b3ac1160",
   "metadata": {},
   "source": [
    "<b>Let's look at the relationship between \"Blood Pressure\" and \"LDL_Cholesterol\".</b>"
   ]
  },
  {
   "cell_type": "code",
   "execution_count": 22,
   "id": "39df2720",
   "metadata": {},
   "outputs": [
    {
     "data": {
      "text/plain": [
       "<AxesSubplot:xlabel='Blood Pressure', ylabel='LDL_Cholesterol'>"
      ]
     },
     "execution_count": 22,
     "metadata": {},
     "output_type": "execute_result"
    },
    {
     "data": {
      "image/png": "[encoded data removed]",
      "text/plain": [
       "<Figure size 432x288 with 1 Axes>"
      ]
     },
     "metadata": {
      "needs_background": "light"
     },
     "output_type": "display_data"
    }
   ],
   "source": [
    "sns.boxplot(x=\"Blood Pressure\", y=\"LDL_Cholesterol\", data=df)"
   ]
  },
  {
   "cell_type": "markdown",
   "id": "bce83785",
   "metadata": {},
   "source": [
    "Here, when you observe the shape of the box plot, patients of High, Normal and Low Blood Pressure may not develop High Cholesterol levels since the values of LDL Cholesterol in all cases are lower than the threshold level of 3.9 for LDL Cholesterol. A patient of who develop High Cholesterol can have any blood pressure level, thus, blood pressure is not a contributer of High Cholesterol levels."
   ]
  },
  {
   "cell_type": "code",
   "execution_count": 114,
   "id": "d6f988ea",
   "metadata": {
    "scrolled": false
   },
   "outputs": [
    {
     "data": {
      "text/plain": [
       "<AxesSubplot:xlabel='ProvisionalDiagnosis', ylabel='LDL_Cholesterol'>"
      ]
     },
     "execution_count": 114,
     "metadata": {},
     "output_type": "execute_result"
    },
    {
     "data": {
      "image/png": "[encoded data removed]",
      "text/plain": [
       "<Figure size 2880x1080 with 1 Axes>"
      ]
     },
     "metadata": {
      "needs_background": "light"
     },
     "output_type": "display_data"
    }
   ],
   "source": [
    "width = 40\n",
    "height = 15\n",
    "plt.figure(figsize=(width, height))\n",
    "sns.boxplot(x=\"ProvisionalDiagnosis\", y=\"LDL_Cholesterol\", data=df)"
   ]
  },
  {
   "cell_type": "markdown",
   "id": "5d91469d",
   "metadata": {},
   "source": [
    "In the Boxplot, we can see that the most commonest complaint of the patients visiting hospital is mainly cases of Diabetes Metitus(DM) and Hypertension (HTN). Thus, patients with DM are mostly with LDL Cholesterols (the Bad Cholesterols). Majority with the values are greater than 3.9. Here we remarked that Diabetes Metitus is the prime symptom of bad cholesterol level."
   ]
  },
  {
   "cell_type": "code",
   "execution_count": 27,
   "id": "be725464",
   "metadata": {},
   "outputs": [
    {
     "data": {
      "text/plain": [
       "array(['HTN', 'Osteoporosis', 'diabetes', 'Covid-19', 'Hyperhidosis', nan,\n",
       "       'dyspepsia', 'RT Costochondritis Prostatism', 'yhypertension',\n",
       "       'Neuropathy', 'gd', 'Bipolar Maria', 'UTI', 'Pud dyalipidemia ',\n",
       "       'DM', 'Peripheral Neuropathy', 'HT', 'Pruritis', 'Herpes',\n",
       "       'Malaria', 'Hyperlipidemia', 'Acid Pepetic disorder',\n",
       "       'Dyalipidemia'], dtype=object)"
      ]
     },
     "execution_count": 27,
     "metadata": {},
     "output_type": "execute_result"
    }
   ],
   "source": [
    "df['ProvisionalDiagnosis'].unique()"
   ]
  },
  {
   "cell_type": "code",
   "execution_count": null,
   "id": "2ff85d91",
   "metadata": {},
   "outputs": [],
   "source": [
    "df_group_one = df[['drive-wheels','body-style','price']]"
   ]
  }
 ],
 "metadata": {
  "kernelspec": {
   "display_name": "Python 3 (ipykernel)",
   "language": "python",
   "name": "python3"
  },
  "language_info": {
   "codemirror_mode": {
    "name": "ipython",
    "version": 3
   },
   "file_extension": ".py",
   "mimetype": "text/x-python",
   "name": "python",
   "nbconvert_exporter": "python",
   "pygments_lexer": "ipython3",
   "version": "3.9.7"
  }
 },
 "nbformat": 4,
 "nbformat_minor": 5
}
