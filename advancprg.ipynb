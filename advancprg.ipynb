{
 "cells": [
  {
   "cell_type": "markdown",
   "id": "25012f53",
   "metadata": {},
   "source": [
    "<h2> Find the value of pi, e, cos 0 ,sin 0</h2>"
   ]
  },
  {
   "cell_type": "code",
   "execution_count": 4,
   "id": "56b9590e",
   "metadata": {},
   "outputs": [],
   "source": [
    "import numpy as np"
   ]
  },
  {
   "cell_type": "code",
   "execution_count": 5,
   "id": "2552c62d",
   "metadata": {},
   "outputs": [
    {
     "data": {
      "text/plain": [
       "3.141592653589793"
      ]
     },
     "execution_count": 5,
     "metadata": {},
     "output_type": "execute_result"
    }
   ],
   "source": [
    "np.pi"
   ]
  },
  {
   "cell_type": "code",
   "execution_count": 6,
   "id": "e4dd9faf",
   "metadata": {},
   "outputs": [
    {
     "data": {
      "text/plain": [
       "2.718281828459045"
      ]
     },
     "execution_count": 6,
     "metadata": {},
     "output_type": "execute_result"
    }
   ],
   "source": [
    "np.e"
   ]
  },
  {
   "cell_type": "code",
   "execution_count": 7,
   "id": "6d248fff",
   "metadata": {},
   "outputs": [
    {
     "data": {
      "text/plain": [
       "1.0"
      ]
     },
     "execution_count": 7,
     "metadata": {},
     "output_type": "execute_result"
    }
   ],
   "source": [
    "np.cos(0)"
   ]
  },
  {
   "cell_type": "code",
   "execution_count": 8,
   "id": "6a547ea7",
   "metadata": {},
   "outputs": [
    {
     "data": {
      "text/plain": [
       "0.0"
      ]
     },
     "execution_count": 8,
     "metadata": {},
     "output_type": "execute_result"
    }
   ],
   "source": [
    "np.sin(0)"
   ]
  },
  {
   "cell_type": "code",
   "execution_count": 10,
   "id": "4d2f3793",
   "metadata": {},
   "outputs": [
    {
     "data": {
      "text/plain": [
       "array([5.46938112, 4.66955554, 5.16753909, 4.8554768 , 5.14294196,\n",
       "       5.05773025, 4.5686783 , 5.02681082, 4.71107887, 4.91547926])"
      ]
     },
     "execution_count": 10,
     "metadata": {},
     "output_type": "execute_result"
    }
   ],
   "source": [
    "normal_array = np.random.normal(5,0.5,10)\n",
    "normal_array"
   ]
  },
  {
   "cell_type": "code",
   "execution_count": 11,
   "id": "ba07857b",
   "metadata": {},
   "outputs": [
    {
     "data": {
      "text/plain": [
       "array([5.46938112, 4.66955554, 5.16753909, 4.8554768 , 5.14294196,\n",
       "       5.05773025, 4.5686783 , 5.02681082, 4.71107887, 4.91547926])"
      ]
     },
     "execution_count": 11,
     "metadata": {},
     "output_type": "execute_result"
    }
   ],
   "source": [
    "normal_array"
   ]
  },
  {
   "cell_type": "code",
   "execution_count": 12,
   "id": "9ba4e06a",
   "metadata": {},
   "outputs": [
    {
     "data": {
      "text/plain": [
       "4.958467201161343"
      ]
     },
     "execution_count": 12,
     "metadata": {},
     "output_type": "execute_result"
    }
   ],
   "source": [
    "np.mean(normal_array)"
   ]
  },
  {
   "cell_type": "code",
   "execution_count": 13,
   "id": "a9a284d6",
   "metadata": {},
   "outputs": [
    {
     "data": {
      "text/plain": [
       "0.2573636216362872"
      ]
     },
     "execution_count": 13,
     "metadata": {},
     "output_type": "execute_result"
    }
   ],
   "source": [
    "np.std(normal_array)"
   ]
  },
  {
   "cell_type": "code",
   "execution_count": 14,
   "id": "87dc61e6",
   "metadata": {},
   "outputs": [
    {
     "data": {
      "text/plain": [
       "5.469381119932201"
      ]
     },
     "execution_count": 14,
     "metadata": {},
     "output_type": "execute_result"
    }
   ],
   "source": [
    "np.max(normal_array)"
   ]
  },
  {
   "cell_type": "code",
   "execution_count": 15,
   "id": "7336a2ca",
   "metadata": {},
   "outputs": [
    {
     "data": {
      "text/plain": [
       "4.568678296547094"
      ]
     },
     "execution_count": 15,
     "metadata": {},
     "output_type": "execute_result"
    }
   ],
   "source": [
    "np.min(normal_array)"
   ]
  },
  {
   "cell_type": "code",
   "execution_count": null,
   "id": "31c905e7",
   "metadata": {},
   "outputs": [],
   "source": []
  }
 ],
 "metadata": {
  "kernelspec": {
   "display_name": "Python 3 (ipykernel)",
   "language": "python",
   "name": "python3"
  },
  "language_info": {
   "codemirror_mode": {
    "name": "ipython",
    "version": 3
   },
   "file_extension": ".py",
   "mimetype": "text/x-python",
   "name": "python",
   "nbconvert_exporter": "python",
   "pygments_lexer": "ipython3",
   "version": "3.9.7"
  }
 },
 "nbformat": 4,
 "nbformat_minor": 5
}
