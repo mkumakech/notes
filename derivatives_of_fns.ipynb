{
 "cells": [
  {
   "cell_type": "markdown",
   "id": "80bcaf82",
   "metadata": {},
   "source": [
    "<h2>Derivatives in Python</h2> "
   ]
  },
  {
   "cell_type": "markdown",
   "id": "6f398619",
   "metadata": {},
   "source": [
    "<b> By Michael Kumakech</b>"
   ]
  },
  {
   "cell_type": "markdown",
   "id": "0c9eb5fa",
   "metadata": {},
   "source": [
    "<h2> Question 1</h2>"
   ]
  },
  {
   "cell_type": "code",
   "execution_count": 1,
   "id": "9bc89199",
   "metadata": {},
   "outputs": [
    {
     "name": "stdout",
     "output_type": "stream",
     "text": [
      "Requirement already satisfied: sympy in c:\\users\\pc\\anaconda3\\lib\\site-packages (1.10.1)\n",
      "Requirement already satisfied: mpmath>=0.19 in c:\\users\\pc\\anaconda3\\lib\\site-packages (from sympy) (1.2.1)\n"
     ]
    }
   ],
   "source": [
    "!pip install sympy"
   ]
  },
  {
   "cell_type": "code",
   "execution_count": 8,
   "id": "12d91664",
   "metadata": {},
   "outputs": [],
   "source": [
    "import sympy as sym\n",
    "import numpy as np"
   ]
  },
  {
   "cell_type": "code",
   "execution_count": 12,
   "id": "beb813e2",
   "metadata": {},
   "outputs": [],
   "source": [
    "x=sym.Symbol('x')"
   ]
  },
  {
   "cell_type": "code",
   "execution_count": 15,
   "id": "bd32ed0f",
   "metadata": {},
   "outputs": [
    {
     "data": {
      "text/latex": [
       "$\\displaystyle 6 x^{5}$"
      ],
      "text/plain": [
       "6*x**5"
      ]
     },
     "execution_count": 15,
     "metadata": {},
     "output_type": "execute_result"
    }
   ],
   "source": [
    "sym.diff(x**6)"
   ]
  },
  {
   "cell_type": "markdown",
   "id": "749dc80a",
   "metadata": {},
   "source": [
    "<h2> Question 2</h2>"
   ]
  },
  {
   "cell_type": "code",
   "execution_count": 16,
   "id": "af8dab68",
   "metadata": {},
   "outputs": [
    {
     "data": {
      "text/latex": [
       "$\\displaystyle 2 x \\cos{\\left(x \\right)} - \\left(x^{2} + 1\\right) \\sin{\\left(x \\right)}$"
      ],
      "text/plain": [
       "2*x*cos(x) - (x**2 + 1)*sin(x)"
      ]
     },
     "execution_count": 16,
     "metadata": {},
     "output_type": "execute_result"
    }
   ],
   "source": [
    "sym.diff((x**2 +1)*sym.cos(x))"
   ]
  },
  {
   "cell_type": "markdown",
   "id": "0142a010",
   "metadata": {},
   "source": [
    "<h2> Question 3</h2>"
   ]
  },
  {
   "cell_type": "code",
   "execution_count": 18,
   "id": "751c99ac",
   "metadata": {},
   "outputs": [
    {
     "data": {
      "text/latex": [
       "$\\displaystyle \\left(6 x + 9\\right) \\left(x^{2} + 3 x + 5\\right)^{2}$"
      ],
      "text/plain": [
       "(6*x + 9)*(x**2 + 3*x + 5)**2"
      ]
     },
     "execution_count": 18,
     "metadata": {},
     "output_type": "execute_result"
    }
   ],
   "source": [
    "sym.diff((x**2 +3*x +5)**3)"
   ]
  },
  {
   "cell_type": "markdown",
   "id": "c145793d",
   "metadata": {},
   "source": [
    "<h2> Question 4.</h2>"
   ]
  },
  {
   "cell_type": "code",
   "execution_count": 21,
   "id": "bc955bed",
   "metadata": {},
   "outputs": [],
   "source": [
    "t =sym.Symbol('t')\n",
    "import numpy as np"
   ]
  },
  {
   "cell_type": "code",
   "execution_count": 25,
   "id": "94b3526c",
   "metadata": {},
   "outputs": [
    {
     "data": {
      "text/latex": [
       "$\\displaystyle - 3 \\sin{\\left(\\frac{t}{2} \\right)} - 2.0 \\cdot 2.71828182845905^{- t}$"
      ],
      "text/plain": [
       "-3*sin(t/2) - 2.0/2.71828182845905**t"
      ]
     },
     "execution_count": 25,
     "metadata": {},
     "output_type": "execute_result"
    }
   ],
   "source": [
    "sym.diff(2*(np.e**-t)+ 6*sym.cos(t/2))"
   ]
  },
  {
   "cell_type": "markdown",
   "id": "3c421719",
   "metadata": {},
   "source": [
    "<h2> Question 5.</h2>"
   ]
  },
  {
   "cell_type": "code",
   "execution_count": 29,
   "id": "fd58f8ac",
   "metadata": {},
   "outputs": [
    {
     "data": {
      "text/latex": [
       "$\\displaystyle - \\frac{4 \\sin{\\left(4 x \\right)}}{\\cos{\\left(4 x \\right)}}$"
      ],
      "text/plain": [
       "-4*sin(4*x)/cos(4*x)"
      ]
     },
     "execution_count": 29,
     "metadata": {},
     "output_type": "execute_result"
    }
   ],
   "source": [
    "sym.diff((sym.ln(sym.cos(4*x))))"
   ]
  },
  {
   "cell_type": "markdown",
   "id": "e09ab10c",
   "metadata": {},
   "source": [
    "<h2> Question 6.</h2>"
   ]
  },
  {
   "cell_type": "code",
   "execution_count": 34,
   "id": "f392c836",
   "metadata": {},
   "outputs": [
    {
     "data": {
      "text/latex": [
       "$\\displaystyle - \\frac{163.794450099433 x^{3}}{\\left(x^{3} + 11\\right)^{2}} + \\frac{54.5981500331442}{x^{3} + 11}$"
      ],
      "text/plain": [
       "-163.794450099433*x**3/(x**3 + 11)**2 + 54.5981500331442/(x**3 + 11)"
      ]
     },
     "execution_count": 34,
     "metadata": {},
     "output_type": "execute_result"
    }
   ],
   "source": [
    "sym.diff(((np.e**4*x)/(x**3 +11)))"
   ]
  },
  {
   "cell_type": "markdown",
   "id": "f027ad46",
   "metadata": {},
   "source": [
    "<h2> Use Numpy or scipy to find the derivatives of these functions in questions 1 - 6. </h2>"
   ]
  },
  {
   "cell_type": "code",
   "execution_count": null,
   "id": "71cfc63c",
   "metadata": {},
   "outputs": [],
   "source": []
  }
 ],
 "metadata": {
  "kernelspec": {
   "display_name": "Python 3 (ipykernel)",
   "language": "python",
   "name": "python3"
  },
  "language_info": {
   "codemirror_mode": {
    "name": "ipython",
    "version": 3
   },
   "file_extension": ".py",
   "mimetype": "text/x-python",
   "name": "python",
   "nbconvert_exporter": "python",
   "pygments_lexer": "ipython3",
   "version": "3.9.12"
  }
 },
 "nbformat": 4,
 "nbformat_minor": 5
}
