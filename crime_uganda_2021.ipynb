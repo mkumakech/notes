{
 "cells": [
  {
   "cell_type": "markdown",
   "id": "e063e4d4",
   "metadata": {},
   "source": [
    "<h2> Regions and Districts of Uganda known for Homicides,Economic, Sex, and Child Related crimes in 2021</h2>"
   ]
  },
  {
   "cell_type": "markdown",
   "id": "f1acc500",
   "metadata": {},
   "source": [
    "In this lab you are to prepare the data for analysis using geopy, geocoder and geopandas python packages to show the locations of police regins_districs where these crimes were reported in the entire Uganda Map. Include pointers for most polar cimes regions."
   ]
  },
  {
   "cell_type": "markdown",
   "id": "6df2ad90",
   "metadata": {},
   "source": [
    "<b> By Michael Kumakech</b>"
   ]
  },
  {
   "cell_type": "code",
   "execution_count": 29,
   "id": "56d20fe2",
   "metadata": {},
   "outputs": [],
   "source": [
    "import pandas as pd\n",
    "import numpy as np\n",
    "import matplotlib.pyplot as plt\n",
    "%matplotlib inline"
   ]
  },
  {
   "cell_type": "code",
   "execution_count": 2,
   "id": "8aa0248d",
   "metadata": {},
   "outputs": [
    {
     "data": {
      "text/html": [
       "<div>\n",
       "<style scoped>\n",
       "    .dataframe tbody tr th:only-of-type {\n",
       "        vertical-align: middle;\n",
       "    }\n",
       "\n",
       "    .dataframe tbody tr th {\n",
       "        vertical-align: top;\n",
       "    }\n",
       "\n",
       "    .dataframe thead th {\n",
       "        text-align: right;\n",
       "    }\n",
       "</style>\n",
       "<table border=\"1\" class=\"dataframe\">\n",
       "  <thead>\n",
       "    <tr style=\"text-align: right;\">\n",
       "      <th></th>\n",
       "      <th>REGIONS_DISTRICTS</th>\n",
       "      <th>HOMICIDES</th>\n",
       "      <th>ECONOMIC_CRIMES</th>\n",
       "      <th>SEX_RELATED_OFFENCES</th>\n",
       "      <th>CHILD_RELATED_OFFENCES</th>\n",
       "    </tr>\n",
       "  </thead>\n",
       "  <tbody>\n",
       "    <tr>\n",
       "      <th>0</th>\n",
       "      <td>C.I.D Headquarters</td>\n",
       "      <td>3</td>\n",
       "      <td>491</td>\n",
       "      <td>13</td>\n",
       "      <td>4.0</td>\n",
       "    </tr>\n",
       "    <tr>\n",
       "      <th>1</th>\n",
       "      <td>S.I.D</td>\n",
       "      <td>2</td>\n",
       "      <td>49</td>\n",
       "      <td>1</td>\n",
       "      <td>NaN</td>\n",
       "    </tr>\n",
       "    <tr>\n",
       "      <th>2</th>\n",
       "      <td>Aviation Police</td>\n",
       "      <td>1</td>\n",
       "      <td>47</td>\n",
       "      <td>7</td>\n",
       "      <td>NaN</td>\n",
       "    </tr>\n",
       "    <tr>\n",
       "      <th>3</th>\n",
       "      <td>C.I.D</td>\n",
       "      <td>5</td>\n",
       "      <td>588</td>\n",
       "      <td>21</td>\n",
       "      <td>4.0</td>\n",
       "    </tr>\n",
       "    <tr>\n",
       "      <th>4</th>\n",
       "      <td>Jinja Road</td>\n",
       "      <td>20</td>\n",
       "      <td>320</td>\n",
       "      <td>116</td>\n",
       "      <td>9.0</td>\n",
       "    </tr>\n",
       "  </tbody>\n",
       "</table>\n",
       "</div>"
      ],
      "text/plain": [
       "    REGIONS_DISTRICTS  HOMICIDES  ECONOMIC_CRIMES  SEX_RELATED_OFFENCES  \\\n",
       "0  C.I.D Headquarters          3              491                    13   \n",
       "1               S.I.D          2               49                     1   \n",
       "2     Aviation Police          1               47                     7   \n",
       "3               C.I.D          5              588                    21   \n",
       "4          Jinja Road         20              320                   116   \n",
       "\n",
       "   CHILD_RELATED_OFFENCES  \n",
       "0                     4.0  \n",
       "1                     NaN  \n",
       "2                     NaN  \n",
       "3                     4.0  \n",
       "4                     9.0  "
      ]
     },
     "execution_count": 2,
     "metadata": {},
     "output_type": "execute_result"
    }
   ],
   "source": [
    "df =pd.read_csv(\"crime_uganda.csv\", encoding = \"latin1\")\n",
    "df.head()"
   ]
  },
  {
   "cell_type": "code",
   "execution_count": 3,
   "id": "7be9bb6d",
   "metadata": {},
   "outputs": [
    {
     "data": {
      "text/html": [
       "<div>\n",
       "<style scoped>\n",
       "    .dataframe tbody tr th:only-of-type {\n",
       "        vertical-align: middle;\n",
       "    }\n",
       "\n",
       "    .dataframe tbody tr th {\n",
       "        vertical-align: top;\n",
       "    }\n",
       "\n",
       "    .dataframe thead th {\n",
       "        text-align: right;\n",
       "    }\n",
       "</style>\n",
       "<table border=\"1\" class=\"dataframe\">\n",
       "  <thead>\n",
       "    <tr style=\"text-align: right;\">\n",
       "      <th></th>\n",
       "      <th>REGIONS_DISTRICTS</th>\n",
       "      <th>HOMICIDES</th>\n",
       "      <th>ECONOMIC_CRIMES</th>\n",
       "      <th>SEX_RELATED_OFFENCES</th>\n",
       "      <th>CHILD_RELATED_OFFENCES</th>\n",
       "    </tr>\n",
       "  </thead>\n",
       "  <tbody>\n",
       "    <tr>\n",
       "      <th>176</th>\n",
       "      <td>BUSOGA EAST</td>\n",
       "      <td>228</td>\n",
       "      <td>363</td>\n",
       "      <td>773</td>\n",
       "      <td>513.0</td>\n",
       "    </tr>\n",
       "    <tr>\n",
       "      <th>177</th>\n",
       "      <td>Jinja</td>\n",
       "      <td>55</td>\n",
       "      <td>269</td>\n",
       "      <td>138</td>\n",
       "      <td>362.0</td>\n",
       "    </tr>\n",
       "    <tr>\n",
       "      <th>178</th>\n",
       "      <td>Buwenge</td>\n",
       "      <td>20</td>\n",
       "      <td>58</td>\n",
       "      <td>84</td>\n",
       "      <td>31.0</td>\n",
       "    </tr>\n",
       "    <tr>\n",
       "      <th>179</th>\n",
       "      <td>Kakira</td>\n",
       "      <td>27</td>\n",
       "      <td>21</td>\n",
       "      <td>46</td>\n",
       "      <td>48.0</td>\n",
       "    </tr>\n",
       "    <tr>\n",
       "      <th>180</th>\n",
       "      <td>KIIRA</td>\n",
       "      <td>102</td>\n",
       "      <td>348</td>\n",
       "      <td>268</td>\n",
       "      <td>442.0</td>\n",
       "    </tr>\n",
       "  </tbody>\n",
       "</table>\n",
       "</div>"
      ],
      "text/plain": [
       "    REGIONS_DISTRICTS  HOMICIDES  ECONOMIC_CRIMES  SEX_RELATED_OFFENCES  \\\n",
       "176       BUSOGA EAST        228              363                   773   \n",
       "177             Jinja         55              269                   138   \n",
       "178           Buwenge         20               58                    84   \n",
       "179            Kakira         27               21                    46   \n",
       "180             KIIRA        102              348                   268   \n",
       "\n",
       "     CHILD_RELATED_OFFENCES  \n",
       "176                   513.0  \n",
       "177                   362.0  \n",
       "178                    31.0  \n",
       "179                    48.0  \n",
       "180                   442.0  "
      ]
     },
     "execution_count": 3,
     "metadata": {},
     "output_type": "execute_result"
    }
   ],
   "source": [
    "df.tail()"
   ]
  },
  {
   "cell_type": "code",
   "execution_count": 4,
   "id": "d2729e69",
   "metadata": {},
   "outputs": [
    {
     "data": {
      "text/plain": [
       "(181, 5)"
      ]
     },
     "execution_count": 4,
     "metadata": {},
     "output_type": "execute_result"
    }
   ],
   "source": [
    "df.shape"
   ]
  },
  {
   "cell_type": "code",
   "execution_count": 5,
   "id": "6ac02aef",
   "metadata": {},
   "outputs": [
    {
     "data": {
      "text/plain": [
       "REGIONS_DISTRICTS          object\n",
       "HOMICIDES                   int64\n",
       "ECONOMIC_CRIMES             int64\n",
       "SEX_RELATED_OFFENCES        int64\n",
       "CHILD_RELATED_OFFENCES    float64\n",
       "dtype: object"
      ]
     },
     "execution_count": 5,
     "metadata": {},
     "output_type": "execute_result"
    }
   ],
   "source": [
    "df.dtypes"
   ]
  },
  {
   "cell_type": "markdown",
   "id": "5c54dc5c",
   "metadata": {},
   "source": [
    "<h2> Clean the data</h2>"
   ]
  },
  {
   "cell_type": "markdown",
   "id": "3d491926",
   "metadata": {},
   "source": [
    "<b>1. Check the missing data<b>"
   ]
  },
  {
   "cell_type": "code",
   "execution_count": 6,
   "id": "c12875ba",
   "metadata": {},
   "outputs": [
    {
     "data": {
      "text/html": [
       "<div>\n",
       "<style scoped>\n",
       "    .dataframe tbody tr th:only-of-type {\n",
       "        vertical-align: middle;\n",
       "    }\n",
       "\n",
       "    .dataframe tbody tr th {\n",
       "        vertical-align: top;\n",
       "    }\n",
       "\n",
       "    .dataframe thead th {\n",
       "        text-align: right;\n",
       "    }\n",
       "</style>\n",
       "<table border=\"1\" class=\"dataframe\">\n",
       "  <thead>\n",
       "    <tr style=\"text-align: right;\">\n",
       "      <th></th>\n",
       "      <th>REGIONS_DISTRICTS</th>\n",
       "      <th>HOMICIDES</th>\n",
       "      <th>ECONOMIC_CRIMES</th>\n",
       "      <th>SEX_RELATED_OFFENCES</th>\n",
       "      <th>CHILD_RELATED_OFFENCES</th>\n",
       "    </tr>\n",
       "  </thead>\n",
       "  <tbody>\n",
       "    <tr>\n",
       "      <th>0</th>\n",
       "      <td>C.I.D Headquarters</td>\n",
       "      <td>3</td>\n",
       "      <td>491</td>\n",
       "      <td>13</td>\n",
       "      <td>4.0</td>\n",
       "    </tr>\n",
       "    <tr>\n",
       "      <th>1</th>\n",
       "      <td>S.I.D</td>\n",
       "      <td>2</td>\n",
       "      <td>49</td>\n",
       "      <td>1</td>\n",
       "      <td>NaN</td>\n",
       "    </tr>\n",
       "    <tr>\n",
       "      <th>2</th>\n",
       "      <td>Aviation Police</td>\n",
       "      <td>1</td>\n",
       "      <td>47</td>\n",
       "      <td>7</td>\n",
       "      <td>NaN</td>\n",
       "    </tr>\n",
       "    <tr>\n",
       "      <th>3</th>\n",
       "      <td>C.I.D</td>\n",
       "      <td>5</td>\n",
       "      <td>588</td>\n",
       "      <td>21</td>\n",
       "      <td>4.0</td>\n",
       "    </tr>\n",
       "    <tr>\n",
       "      <th>4</th>\n",
       "      <td>Jinja Road</td>\n",
       "      <td>20</td>\n",
       "      <td>320</td>\n",
       "      <td>116</td>\n",
       "      <td>9.0</td>\n",
       "    </tr>\n",
       "  </tbody>\n",
       "</table>\n",
       "</div>"
      ],
      "text/plain": [
       "    REGIONS_DISTRICTS  HOMICIDES  ECONOMIC_CRIMES  SEX_RELATED_OFFENCES  \\\n",
       "0  C.I.D Headquarters          3              491                    13   \n",
       "1               S.I.D          2               49                     1   \n",
       "2     Aviation Police          1               47                     7   \n",
       "3               C.I.D          5              588                    21   \n",
       "4          Jinja Road         20              320                   116   \n",
       "\n",
       "   CHILD_RELATED_OFFENCES  \n",
       "0                     4.0  \n",
       "1                     NaN  \n",
       "2                     NaN  \n",
       "3                     4.0  \n",
       "4                     9.0  "
      ]
     },
     "execution_count": 6,
     "metadata": {},
     "output_type": "execute_result"
    }
   ],
   "source": [
    "import numpy as np\n",
    "\n",
    "# replace \"?\" to NaN\n",
    "df.replace(\"\", np.nan, inplace = True)\n",
    "df.head(5)"
   ]
  },
  {
   "cell_type": "markdown",
   "id": "0f5a496b",
   "metadata": {},
   "source": [
    "<b> Evaluation for missing data </b>"
   ]
  },
  {
   "cell_type": "code",
   "execution_count": 7,
   "id": "057dc32b",
   "metadata": {},
   "outputs": [
    {
     "data": {
      "text/html": [
       "<div>\n",
       "<style scoped>\n",
       "    .dataframe tbody tr th:only-of-type {\n",
       "        vertical-align: middle;\n",
       "    }\n",
       "\n",
       "    .dataframe tbody tr th {\n",
       "        vertical-align: top;\n",
       "    }\n",
       "\n",
       "    .dataframe thead th {\n",
       "        text-align: right;\n",
       "    }\n",
       "</style>\n",
       "<table border=\"1\" class=\"dataframe\">\n",
       "  <thead>\n",
       "    <tr style=\"text-align: right;\">\n",
       "      <th></th>\n",
       "      <th>REGIONS_DISTRICTS</th>\n",
       "      <th>HOMICIDES</th>\n",
       "      <th>ECONOMIC_CRIMES</th>\n",
       "      <th>SEX_RELATED_OFFENCES</th>\n",
       "      <th>CHILD_RELATED_OFFENCES</th>\n",
       "    </tr>\n",
       "  </thead>\n",
       "  <tbody>\n",
       "    <tr>\n",
       "      <th>0</th>\n",
       "      <td>False</td>\n",
       "      <td>False</td>\n",
       "      <td>False</td>\n",
       "      <td>False</td>\n",
       "      <td>False</td>\n",
       "    </tr>\n",
       "    <tr>\n",
       "      <th>1</th>\n",
       "      <td>False</td>\n",
       "      <td>False</td>\n",
       "      <td>False</td>\n",
       "      <td>False</td>\n",
       "      <td>True</td>\n",
       "    </tr>\n",
       "    <tr>\n",
       "      <th>2</th>\n",
       "      <td>False</td>\n",
       "      <td>False</td>\n",
       "      <td>False</td>\n",
       "      <td>False</td>\n",
       "      <td>True</td>\n",
       "    </tr>\n",
       "    <tr>\n",
       "      <th>3</th>\n",
       "      <td>False</td>\n",
       "      <td>False</td>\n",
       "      <td>False</td>\n",
       "      <td>False</td>\n",
       "      <td>False</td>\n",
       "    </tr>\n",
       "    <tr>\n",
       "      <th>4</th>\n",
       "      <td>False</td>\n",
       "      <td>False</td>\n",
       "      <td>False</td>\n",
       "      <td>False</td>\n",
       "      <td>False</td>\n",
       "    </tr>\n",
       "  </tbody>\n",
       "</table>\n",
       "</div>"
      ],
      "text/plain": [
       "   REGIONS_DISTRICTS  HOMICIDES  ECONOMIC_CRIMES  SEX_RELATED_OFFENCES  \\\n",
       "0              False      False            False                 False   \n",
       "1              False      False            False                 False   \n",
       "2              False      False            False                 False   \n",
       "3              False      False            False                 False   \n",
       "4              False      False            False                 False   \n",
       "\n",
       "   CHILD_RELATED_OFFENCES  \n",
       "0                   False  \n",
       "1                    True  \n",
       "2                    True  \n",
       "3                   False  \n",
       "4                   False  "
      ]
     },
     "execution_count": 7,
     "metadata": {},
     "output_type": "execute_result"
    }
   ],
   "source": [
    "missing_data = df.isnull()\n",
    "missing_data.head(5)"
   ]
  },
  {
   "cell_type": "code",
   "execution_count": 8,
   "id": "f1958524",
   "metadata": {},
   "outputs": [
    {
     "data": {
      "text/html": [
       "<div>\n",
       "<style scoped>\n",
       "    .dataframe tbody tr th:only-of-type {\n",
       "        vertical-align: middle;\n",
       "    }\n",
       "\n",
       "    .dataframe tbody tr th {\n",
       "        vertical-align: top;\n",
       "    }\n",
       "\n",
       "    .dataframe thead th {\n",
       "        text-align: right;\n",
       "    }\n",
       "</style>\n",
       "<table border=\"1\" class=\"dataframe\">\n",
       "  <thead>\n",
       "    <tr style=\"text-align: right;\">\n",
       "      <th></th>\n",
       "      <th>REGIONS_DISTRICTS</th>\n",
       "      <th>HOMICIDES</th>\n",
       "      <th>ECONOMIC_CRIMES</th>\n",
       "      <th>SEX_RELATED_OFFENCES</th>\n",
       "      <th>CHILD_RELATED_OFFENCES</th>\n",
       "    </tr>\n",
       "  </thead>\n",
       "  <tbody>\n",
       "    <tr>\n",
       "      <th>176</th>\n",
       "      <td>False</td>\n",
       "      <td>False</td>\n",
       "      <td>False</td>\n",
       "      <td>False</td>\n",
       "      <td>False</td>\n",
       "    </tr>\n",
       "    <tr>\n",
       "      <th>177</th>\n",
       "      <td>False</td>\n",
       "      <td>False</td>\n",
       "      <td>False</td>\n",
       "      <td>False</td>\n",
       "      <td>False</td>\n",
       "    </tr>\n",
       "    <tr>\n",
       "      <th>178</th>\n",
       "      <td>False</td>\n",
       "      <td>False</td>\n",
       "      <td>False</td>\n",
       "      <td>False</td>\n",
       "      <td>False</td>\n",
       "    </tr>\n",
       "    <tr>\n",
       "      <th>179</th>\n",
       "      <td>False</td>\n",
       "      <td>False</td>\n",
       "      <td>False</td>\n",
       "      <td>False</td>\n",
       "      <td>False</td>\n",
       "    </tr>\n",
       "    <tr>\n",
       "      <th>180</th>\n",
       "      <td>False</td>\n",
       "      <td>False</td>\n",
       "      <td>False</td>\n",
       "      <td>False</td>\n",
       "      <td>False</td>\n",
       "    </tr>\n",
       "  </tbody>\n",
       "</table>\n",
       "</div>"
      ],
      "text/plain": [
       "     REGIONS_DISTRICTS  HOMICIDES  ECONOMIC_CRIMES  SEX_RELATED_OFFENCES  \\\n",
       "176              False      False            False                 False   \n",
       "177              False      False            False                 False   \n",
       "178              False      False            False                 False   \n",
       "179              False      False            False                 False   \n",
       "180              False      False            False                 False   \n",
       "\n",
       "     CHILD_RELATED_OFFENCES  \n",
       "176                   False  \n",
       "177                   False  \n",
       "178                   False  \n",
       "179                   False  \n",
       "180                   False  "
      ]
     },
     "execution_count": 8,
     "metadata": {},
     "output_type": "execute_result"
    }
   ],
   "source": [
    "missing_data = df.isnull()\n",
    "missing_data.tail(5)"
   ]
  },
  {
   "cell_type": "markdown",
   "id": "b0d37960",
   "metadata": {},
   "source": [
    "<b> Count missing values in each column</b>"
   ]
  },
  {
   "cell_type": "code",
   "execution_count": 9,
   "id": "8bf870fc",
   "metadata": {},
   "outputs": [
    {
     "name": "stdout",
     "output_type": "stream",
     "text": [
      "REGIONS_DISTRICTS\n",
      "False    181\n",
      "Name: REGIONS_DISTRICTS, dtype: int64\n",
      "\n",
      "HOMICIDES\n",
      "False    181\n",
      "Name: HOMICIDES, dtype: int64\n",
      "\n",
      "ECONOMIC_CRIMES\n",
      "False    181\n",
      "Name: ECONOMIC_CRIMES, dtype: int64\n",
      "\n",
      "SEX_RELATED_OFFENCES\n",
      "False    181\n",
      "Name: SEX_RELATED_OFFENCES, dtype: int64\n",
      "\n",
      "CHILD_RELATED_OFFENCES\n",
      "False    177\n",
      "True       4\n",
      "Name: CHILD_RELATED_OFFENCES, dtype: int64\n",
      "\n"
     ]
    }
   ],
   "source": [
    "for column in missing_data.columns.values.tolist():\n",
    "    print(column)\n",
    "    print (missing_data[column].value_counts())\n",
    "    print(\"\")  "
   ]
  },
  {
   "cell_type": "markdown",
   "id": "09aecaaf",
   "metadata": {},
   "source": [
    "<b> Deal with missing data</b> Replace the with mean"
   ]
  },
  {
   "cell_type": "code",
   "execution_count": 10,
   "id": "655ff7bf",
   "metadata": {},
   "outputs": [
    {
     "name": "stdout",
     "output_type": "stream",
     "text": [
      "Average of CHILD_RELATED_OFFENCES: 131\n"
     ]
    }
   ],
   "source": [
    "# Calculate the average of the column\n",
    "avg_child_loss = df[\"CHILD_RELATED_OFFENCES\"].astype(\"float\").mean(axis=0)\n",
    "print(\"Average of CHILD_RELATED_OFFENCES:\",\"{:.0f}\".format(avg_child_loss))"
   ]
  },
  {
   "cell_type": "markdown",
   "id": "5ead0d85",
   "metadata": {},
   "source": [
    "<b> Replace \"NaN\" by mean value in \"CHILD_RELATED_OFFENCES\" column</b>"
   ]
  },
  {
   "cell_type": "code",
   "execution_count": 11,
   "id": "2eb15722",
   "metadata": {},
   "outputs": [],
   "source": [
    "\n",
    "df[\"CHILD_RELATED_OFFENCES\"].replace(np.nan, \"{:.0f}\".format(avg_child_loss), inplace=True)"
   ]
  },
  {
   "cell_type": "code",
   "execution_count": 12,
   "id": "fc20a1ed",
   "metadata": {},
   "outputs": [
    {
     "data": {
      "text/html": [
       "<div>\n",
       "<style scoped>\n",
       "    .dataframe tbody tr th:only-of-type {\n",
       "        vertical-align: middle;\n",
       "    }\n",
       "\n",
       "    .dataframe tbody tr th {\n",
       "        vertical-align: top;\n",
       "    }\n",
       "\n",
       "    .dataframe thead th {\n",
       "        text-align: right;\n",
       "    }\n",
       "</style>\n",
       "<table border=\"1\" class=\"dataframe\">\n",
       "  <thead>\n",
       "    <tr style=\"text-align: right;\">\n",
       "      <th></th>\n",
       "      <th>REGIONS_DISTRICTS</th>\n",
       "      <th>HOMICIDES</th>\n",
       "      <th>ECONOMIC_CRIMES</th>\n",
       "      <th>SEX_RELATED_OFFENCES</th>\n",
       "      <th>CHILD_RELATED_OFFENCES</th>\n",
       "    </tr>\n",
       "  </thead>\n",
       "  <tbody>\n",
       "    <tr>\n",
       "      <th>0</th>\n",
       "      <td>C.I.D Headquarters</td>\n",
       "      <td>3</td>\n",
       "      <td>491</td>\n",
       "      <td>13</td>\n",
       "      <td>4.0</td>\n",
       "    </tr>\n",
       "    <tr>\n",
       "      <th>1</th>\n",
       "      <td>S.I.D</td>\n",
       "      <td>2</td>\n",
       "      <td>49</td>\n",
       "      <td>1</td>\n",
       "      <td>131</td>\n",
       "    </tr>\n",
       "    <tr>\n",
       "      <th>2</th>\n",
       "      <td>Aviation Police</td>\n",
       "      <td>1</td>\n",
       "      <td>47</td>\n",
       "      <td>7</td>\n",
       "      <td>131</td>\n",
       "    </tr>\n",
       "    <tr>\n",
       "      <th>3</th>\n",
       "      <td>C.I.D</td>\n",
       "      <td>5</td>\n",
       "      <td>588</td>\n",
       "      <td>21</td>\n",
       "      <td>4.0</td>\n",
       "    </tr>\n",
       "    <tr>\n",
       "      <th>4</th>\n",
       "      <td>Jinja Road</td>\n",
       "      <td>20</td>\n",
       "      <td>320</td>\n",
       "      <td>116</td>\n",
       "      <td>9.0</td>\n",
       "    </tr>\n",
       "  </tbody>\n",
       "</table>\n",
       "</div>"
      ],
      "text/plain": [
       "    REGIONS_DISTRICTS  HOMICIDES  ECONOMIC_CRIMES  SEX_RELATED_OFFENCES  \\\n",
       "0  C.I.D Headquarters          3              491                    13   \n",
       "1               S.I.D          2               49                     1   \n",
       "2     Aviation Police          1               47                     7   \n",
       "3               C.I.D          5              588                    21   \n",
       "4          Jinja Road         20              320                   116   \n",
       "\n",
       "  CHILD_RELATED_OFFENCES  \n",
       "0                    4.0  \n",
       "1                    131  \n",
       "2                    131  \n",
       "3                    4.0  \n",
       "4                    9.0  "
      ]
     },
     "execution_count": 12,
     "metadata": {},
     "output_type": "execute_result"
    }
   ],
   "source": [
    "df.head()"
   ]
  },
  {
   "cell_type": "markdown",
   "id": "ae31c64d",
   "metadata": {},
   "source": [
    "<b> Good! Now, we obtain the dataset with no missing values.</b>"
   ]
  },
  {
   "cell_type": "code",
   "execution_count": 13,
   "id": "dd710894",
   "metadata": {},
   "outputs": [
    {
     "data": {
      "text/plain": [
       "REGIONS_DISTRICTS         object\n",
       "HOMICIDES                  int64\n",
       "ECONOMIC_CRIMES            int64\n",
       "SEX_RELATED_OFFENCES       int64\n",
       "CHILD_RELATED_OFFENCES    object\n",
       "dtype: object"
      ]
     },
     "execution_count": 13,
     "metadata": {},
     "output_type": "execute_result"
    }
   ],
   "source": [
    "df.dtypes"
   ]
  },
  {
   "cell_type": "code",
   "execution_count": 14,
   "id": "27313438",
   "metadata": {},
   "outputs": [],
   "source": [
    "df[[\"CHILD_RELATED_OFFENCES\"]] = df[[\"CHILD_RELATED_OFFENCES\"]].astype(\"int\")"
   ]
  },
  {
   "cell_type": "code",
   "execution_count": 15,
   "id": "a70269ed",
   "metadata": {},
   "outputs": [
    {
     "data": {
      "text/plain": [
       "REGIONS_DISTRICTS         object\n",
       "HOMICIDES                  int64\n",
       "ECONOMIC_CRIMES            int64\n",
       "SEX_RELATED_OFFENCES       int64\n",
       "CHILD_RELATED_OFFENCES     int32\n",
       "dtype: object"
      ]
     },
     "execution_count": 15,
     "metadata": {},
     "output_type": "execute_result"
    }
   ],
   "source": [
    "df.dtypes"
   ]
  },
  {
   "cell_type": "code",
   "execution_count": 19,
   "id": "9ed35be0",
   "metadata": {},
   "outputs": [
    {
     "name": "stdout",
     "output_type": "stream",
     "text": [
      "Requirement already satisfied: geopy in c:\\users\\pc\\anaconda3\\lib\\site-packages (2.3.0)\n",
      "Requirement already satisfied: geographiclib<3,>=1.52 in c:\\users\\pc\\anaconda3\\lib\\site-packages (from geopy) (2.0)\n",
      "Requirement already satisfied: geocoder in c:\\users\\pc\\anaconda3\\lib\\site-packages (1.38.1)\n",
      "Requirement already satisfied: click in c:\\users\\pc\\anaconda3\\lib\\site-packages (from geocoder) (8.0.4)\n",
      "Requirement already satisfied: future in c:\\users\\pc\\anaconda3\\lib\\site-packages (from geocoder) (0.18.2)\n",
      "Requirement already satisfied: six in c:\\users\\pc\\anaconda3\\lib\\site-packages (from geocoder) (1.16.0)\n",
      "Requirement already satisfied: ratelim in c:\\users\\pc\\anaconda3\\lib\\site-packages (from geocoder) (0.1.6)\n",
      "Requirement already satisfied: requests in c:\\users\\pc\\anaconda3\\lib\\site-packages (from geocoder) (2.27.1)\n",
      "Requirement already satisfied: colorama in c:\\users\\pc\\anaconda3\\lib\\site-packages (from click->geocoder) (0.4.4)\n",
      "Requirement already satisfied: decorator in c:\\users\\pc\\anaconda3\\lib\\site-packages (from ratelim->geocoder) (5.1.1)\n",
      "Requirement already satisfied: charset-normalizer~=2.0.0 in c:\\users\\pc\\anaconda3\\lib\\site-packages (from requests->geocoder) (2.0.4)\n",
      "Requirement already satisfied: urllib3<1.27,>=1.21.1 in c:\\users\\pc\\anaconda3\\lib\\site-packages (from requests->geocoder) (1.26.9)\n",
      "Requirement already satisfied: idna<4,>=2.5 in c:\\users\\pc\\anaconda3\\lib\\site-packages (from requests->geocoder) (3.3)\n",
      "Requirement already satisfied: certifi>=2017.4.17 in c:\\users\\pc\\anaconda3\\lib\\site-packages (from requests->geocoder) (2022.9.24)\n"
     ]
    }
   ],
   "source": [
    "!pip install geopy\n",
    "\n",
    "from geopy.geocoders import Nominatim # library to covert address to latitude and longitude\n",
    "\n",
    "!pip install geocoder\n",
    "import geocoder"
   ]
  },
  {
   "cell_type": "code",
   "execution_count": 18,
   "id": "3de0486a",
   "metadata": {},
   "outputs": [
    {
     "name": "stdout",
     "output_type": "stream",
     "text": [
      "Collecting geopandas\n",
      "  Downloading geopandas-0.12.2-py3-none-any.whl (1.1 MB)\n",
      "Requirement already satisfied: packaging in c:\\users\\pc\\anaconda3\\lib\\site-packages (from geopandas) (21.3)\n",
      "Requirement already satisfied: pandas>=1.0.0 in c:\\users\\pc\\anaconda3\\lib\\site-packages (from geopandas) (1.4.3)\n",
      "Collecting fiona>=1.8\n",
      "  Downloading Fiona-1.9.2-cp39-cp39-win_amd64.whl (22.0 MB)\n",
      "Collecting pyproj>=2.6.1.post1\n",
      "  Downloading pyproj-3.4.1-cp39-cp39-win_amd64.whl (4.8 MB)\n",
      "Collecting shapely>=1.7\n",
      "  Downloading shapely-2.0.1-cp39-cp39-win_amd64.whl (1.4 MB)\n",
      "Collecting munch>=2.3.2\n",
      "  Downloading munch-2.5.0-py2.py3-none-any.whl (10 kB)\n",
      "Requirement already satisfied: attrs>=19.2.0 in c:\\users\\pc\\anaconda3\\lib\\site-packages (from fiona>=1.8->geopandas) (21.4.0)\n",
      "Requirement already satisfied: certifi in c:\\users\\pc\\anaconda3\\lib\\site-packages (from fiona>=1.8->geopandas) (2022.9.24)\n",
      "Collecting cligj>=0.5\n",
      "  Downloading cligj-0.7.2-py3-none-any.whl (7.1 kB)\n",
      "Collecting click-plugins>=1.0\n",
      "  Downloading click_plugins-1.1.1-py2.py3-none-any.whl (7.5 kB)\n",
      "Requirement already satisfied: click~=8.0 in c:\\users\\pc\\anaconda3\\lib\\site-packages (from fiona>=1.8->geopandas) (8.0.4)\n",
      "Requirement already satisfied: importlib-metadata in c:\\users\\pc\\anaconda3\\lib\\site-packages (from fiona>=1.8->geopandas) (4.11.3)\n",
      "Requirement already satisfied: colorama in c:\\users\\pc\\anaconda3\\lib\\site-packages (from click~=8.0->fiona>=1.8->geopandas) (0.4.4)\n",
      "Requirement already satisfied: six in c:\\users\\pc\\anaconda3\\lib\\site-packages (from munch>=2.3.2->fiona>=1.8->geopandas) (1.16.0)\n",
      "Requirement already satisfied: pytz>=2020.1 in c:\\users\\pc\\anaconda3\\lib\\site-packages (from pandas>=1.0.0->geopandas) (2021.3)\n",
      "Requirement already satisfied: numpy>=1.18.5 in c:\\users\\pc\\anaconda3\\lib\\site-packages (from pandas>=1.0.0->geopandas) (1.21.5)\n",
      "Requirement already satisfied: python-dateutil>=2.8.1 in c:\\users\\pc\\anaconda3\\lib\\site-packages (from pandas>=1.0.0->geopandas) (2.8.2)\n",
      "Requirement already satisfied: zipp>=0.5 in c:\\users\\pc\\anaconda3\\lib\\site-packages (from importlib-metadata->fiona>=1.8->geopandas) (3.7.0)\n",
      "Requirement already satisfied: pyparsing!=3.0.5,>=2.0.2 in c:\\users\\pc\\anaconda3\\lib\\site-packages (from packaging->geopandas) (3.0.4)\n",
      "Installing collected packages: munch, cligj, click-plugins, shapely, pyproj, fiona, geopandas\n",
      "Successfully installed click-plugins-1.1.1 cligj-0.7.2 fiona-1.9.2 geopandas-0.12.2 munch-2.5.0 pyproj-3.4.1 shapely-2.0.1\n"
     ]
    }
   ],
   "source": [
    "!pip install geopandas"
   ]
  },
  {
   "cell_type": "markdown",
   "id": "d1b3c571",
   "metadata": {},
   "source": [
    "<b> Get latitude and longitude for each rows of the dataframe.</b>"
   ]
  },
  {
   "cell_type": "code",
   "execution_count": 21,
   "id": "96e027b4",
   "metadata": {},
   "outputs": [],
   "source": [
    "def get_latlng(arcgis_geocoder): # defining the function\n",
    "    \n",
    "    lat_lng_coords = None # initialising location to None\n",
    "    \n",
    "    while(lat_lng_coords is None): # geocode while loop to create latitude and longitude for each rows\n",
    "        g = geocoder.arcgis('{}, Uganda, Africa'.format(arcgis_geocoder))\n",
    "        lat_lng_coords = g.latlng\n",
    "    return lat_lng_coords"
   ]
  },
  {
   "cell_type": "markdown",
   "id": "69541637",
   "metadata": {},
   "source": [
    "<b> Get the latitude and longitude based on Region_district</b>"
   ]
  },
  {
   "cell_type": "code",
   "execution_count": 22,
   "id": "0fd95102",
   "metadata": {},
   "outputs": [],
   "source": [
    "regions_dist_code = df['REGIONS_DISTRICTS']\n",
    "coordinates = [get_latlng(regions_dist_code) for regions_dist_code in regions_dist_code.tolist()]"
   ]
  },
  {
   "cell_type": "markdown",
   "id": "22766e7a",
   "metadata": {},
   "source": [
    "<b> Put the Latitude and Longitude columns in the dataframe and print the first 12 rows.</b>"
   ]
  },
  {
   "cell_type": "code",
   "execution_count": 23,
   "id": "c8b4ab8f",
   "metadata": {},
   "outputs": [
    {
     "data": {
      "text/html": [
       "<div>\n",
       "<style scoped>\n",
       "    .dataframe tbody tr th:only-of-type {\n",
       "        vertical-align: middle;\n",
       "    }\n",
       "\n",
       "    .dataframe tbody tr th {\n",
       "        vertical-align: top;\n",
       "    }\n",
       "\n",
       "    .dataframe thead th {\n",
       "        text-align: right;\n",
       "    }\n",
       "</style>\n",
       "<table border=\"1\" class=\"dataframe\">\n",
       "  <thead>\n",
       "    <tr style=\"text-align: right;\">\n",
       "      <th></th>\n",
       "      <th>REGIONS_DISTRICTS</th>\n",
       "      <th>HOMICIDES</th>\n",
       "      <th>ECONOMIC_CRIMES</th>\n",
       "      <th>SEX_RELATED_OFFENCES</th>\n",
       "      <th>CHILD_RELATED_OFFENCES</th>\n",
       "      <th>Latitude</th>\n",
       "      <th>Longitude</th>\n",
       "    </tr>\n",
       "  </thead>\n",
       "  <tbody>\n",
       "    <tr>\n",
       "      <th>0</th>\n",
       "      <td>C.I.D Headquarters</td>\n",
       "      <td>3</td>\n",
       "      <td>491</td>\n",
       "      <td>13</td>\n",
       "      <td>4</td>\n",
       "      <td>53.32941</td>\n",
       "      <td>53.54489</td>\n",
       "    </tr>\n",
       "    <tr>\n",
       "      <th>1</th>\n",
       "      <td>S.I.D</td>\n",
       "      <td>2</td>\n",
       "      <td>49</td>\n",
       "      <td>1</td>\n",
       "      <td>131</td>\n",
       "      <td>0.35128</td>\n",
       "      <td>32.53793</td>\n",
       "    </tr>\n",
       "    <tr>\n",
       "      <th>2</th>\n",
       "      <td>Aviation Police</td>\n",
       "      <td>1</td>\n",
       "      <td>47</td>\n",
       "      <td>7</td>\n",
       "      <td>131</td>\n",
       "      <td>53.32941</td>\n",
       "      <td>53.54489</td>\n",
       "    </tr>\n",
       "    <tr>\n",
       "      <th>3</th>\n",
       "      <td>C.I.D</td>\n",
       "      <td>5</td>\n",
       "      <td>588</td>\n",
       "      <td>21</td>\n",
       "      <td>4</td>\n",
       "      <td>0.35128</td>\n",
       "      <td>32.53793</td>\n",
       "    </tr>\n",
       "    <tr>\n",
       "      <th>4</th>\n",
       "      <td>Jinja Road</td>\n",
       "      <td>20</td>\n",
       "      <td>320</td>\n",
       "      <td>116</td>\n",
       "      <td>9</td>\n",
       "      <td>0.32545</td>\n",
       "      <td>32.60655</td>\n",
       "    </tr>\n",
       "    <tr>\n",
       "      <th>5</th>\n",
       "      <td>Kira Division</td>\n",
       "      <td>24</td>\n",
       "      <td>178</td>\n",
       "      <td>105</td>\n",
       "      <td>22</td>\n",
       "      <td>0.05128</td>\n",
       "      <td>32.47446</td>\n",
       "    </tr>\n",
       "    <tr>\n",
       "      <th>6</th>\n",
       "      <td>Kira Road</td>\n",
       "      <td>30</td>\n",
       "      <td>171</td>\n",
       "      <td>94</td>\n",
       "      <td>46</td>\n",
       "      <td>0.40568</td>\n",
       "      <td>32.64193</td>\n",
       "    </tr>\n",
       "    <tr>\n",
       "      <th>7</th>\n",
       "      <td>Mukono</td>\n",
       "      <td>36</td>\n",
       "      <td>283</td>\n",
       "      <td>176</td>\n",
       "      <td>41</td>\n",
       "      <td>0.35825</td>\n",
       "      <td>32.75137</td>\n",
       "    </tr>\n",
       "    <tr>\n",
       "      <th>8</th>\n",
       "      <td>Nagalama</td>\n",
       "      <td>19</td>\n",
       "      <td>54</td>\n",
       "      <td>76</td>\n",
       "      <td>10</td>\n",
       "      <td>0.51444</td>\n",
       "      <td>32.75528</td>\n",
       "    </tr>\n",
       "    <tr>\n",
       "      <th>9</th>\n",
       "      <td>KMP EAST</td>\n",
       "      <td>129</td>\n",
       "      <td>1007</td>\n",
       "      <td>567</td>\n",
       "      <td>127</td>\n",
       "      <td>0.35128</td>\n",
       "      <td>32.53793</td>\n",
       "    </tr>\n",
       "    <tr>\n",
       "      <th>10</th>\n",
       "      <td>CPS Kampala</td>\n",
       "      <td>14</td>\n",
       "      <td>632</td>\n",
       "      <td>10</td>\n",
       "      <td>3</td>\n",
       "      <td>0.35128</td>\n",
       "      <td>32.53793</td>\n",
       "    </tr>\n",
       "    <tr>\n",
       "      <th>11</th>\n",
       "      <td>Katwe</td>\n",
       "      <td>58</td>\n",
       "      <td>287</td>\n",
       "      <td>231</td>\n",
       "      <td>468</td>\n",
       "      <td>0.30011</td>\n",
       "      <td>32.58168</td>\n",
       "    </tr>\n",
       "  </tbody>\n",
       "</table>\n",
       "</div>"
      ],
      "text/plain": [
       "     REGIONS_DISTRICTS  HOMICIDES  ECONOMIC_CRIMES  SEX_RELATED_OFFENCES  \\\n",
       "0   C.I.D Headquarters          3              491                    13   \n",
       "1                S.I.D          2               49                     1   \n",
       "2      Aviation Police          1               47                     7   \n",
       "3                C.I.D          5              588                    21   \n",
       "4           Jinja Road         20              320                   116   \n",
       "5        Kira Division         24              178                   105   \n",
       "6            Kira Road         30              171                    94   \n",
       "7               Mukono         36              283                   176   \n",
       "8             Nagalama         19               54                    76   \n",
       "9             KMP EAST        129             1007                   567   \n",
       "10         CPS Kampala         14              632                    10   \n",
       "11               Katwe         58              287                   231   \n",
       "\n",
       "    CHILD_RELATED_OFFENCES  Latitude  Longitude  \n",
       "0                        4  53.32941   53.54489  \n",
       "1                      131   0.35128   32.53793  \n",
       "2                      131  53.32941   53.54489  \n",
       "3                        4   0.35128   32.53793  \n",
       "4                        9   0.32545   32.60655  \n",
       "5                       22   0.05128   32.47446  \n",
       "6                       46   0.40568   32.64193  \n",
       "7                       41   0.35825   32.75137  \n",
       "8                       10   0.51444   32.75528  \n",
       "9                      127   0.35128   32.53793  \n",
       "10                       3   0.35128   32.53793  \n",
       "11                     468   0.30011   32.58168  "
      ]
     },
     "execution_count": 23,
     "metadata": {},
     "output_type": "execute_result"
    }
   ],
   "source": [
    "df_loc = df\n",
    "\n",
    "df_coordinates = pd.DataFrame(coordinates, columns = ['Latitude', 'Longitude'])\n",
    "\n",
    "df_loc['Latitude'] = df_coordinates['Latitude']\n",
    "\n",
    "df_loc['Longitude'] = df_coordinates['Longitude']\n",
    "\n",
    "df_loc.head(12)"
   ]
  },
  {
   "cell_type": "markdown",
   "id": "8568579c",
   "metadata": {},
   "source": [
    "<b> Importing the needed libraries</b>"
   ]
  },
  {
   "cell_type": "code",
   "execution_count": 24,
   "id": "152b9c4e",
   "metadata": {},
   "outputs": [
    {
     "name": "stdout",
     "output_type": "stream",
     "text": [
      "folium installed...\n",
      "folium imported...\n",
      "Done\n"
     ]
    }
   ],
   "source": [
    "import matplotlib.cm as cm\n",
    "import matplotlib.colors as colors\n",
    "\n",
    "import numpy as np\n",
    "\n",
    "import json # library to handle JSON files\n",
    "from pandas.io.json import json_normalize # tranform JSON file into a pandas dataframe\n",
    "\n",
    "from sklearn.cluster import KMeans\n",
    "\n",
    "!pip -q install folium\n",
    "print('folium installed...')\n",
    "import folium # library for map rendering\n",
    "print('folium imported...')\n",
    "print('Done')"
   ]
  },
  {
   "cell_type": "markdown",
   "id": "dac31628",
   "metadata": {},
   "source": [
    "<b> Using the geopy library to get the latitude and longitude values of Uganda</b>"
   ]
  },
  {
   "cell_type": "code",
   "execution_count": 26,
   "id": "fc293c60",
   "metadata": {},
   "outputs": [
    {
     "name": "stdout",
     "output_type": "stream",
     "text": [
      "The geographical coordinates of Uganda are 1.2063956, 34.2079667.\n"
     ]
    }
   ],
   "source": [
    "address = 'Uganda, Africa'\n",
    "\n",
    "geolocator = Nominatim(user_agent=\"ln_explorer\")\n",
    "\n",
    "location = geolocator.geocode(address)\n",
    "\n",
    "latitude = location.latitude\n",
    "\n",
    "longitude = location.longitude\n",
    "\n",
    "print('The geographical coordinates of Uganda are {}, {}.'.format(latitude, longitude))"
   ]
  },
  {
   "cell_type": "markdown",
   "id": "345b8d8a",
   "metadata": {},
   "source": [
    "<b> Coming up with the map of Uganda with folium </b>"
   ]
  },
  {
   "cell_type": "code",
   "execution_count": 28,
   "id": "ec9da4e9",
   "metadata": {},
   "outputs": [
    {
     "data": {
      "text/html": [
       "<div style=\"width:100%;\"><div style=\"position:relative;width:100%;height:0;padding-bottom:60%;\"><span style=\"color:#565656\">Make this Notebook Trusted to load map: File -> Trust Notebook</span><iframe srcdoc=\"&lt;!DOCTYPE html&gt;\n",
       "&lt;head&gt;    \n",
       "    &lt;meta http-equiv=&quot;content-type&quot; content=&quot;text/html; charset=UTF-8&quot; /&gt;\n",
       "    &lt;script&gt;L_PREFER_CANVAS = false; L_NO_TOUCH = false; L_DISABLE_3D = false;&lt;/script&gt;\n",
       "    &lt;script src=&quot;https://cdn.jsdelivr.net/npm/leaflet@1.2.0/dist/leaflet.js&quot;&gt;&lt;/script&gt;\n",
       "    &lt;script src=&quot;https://ajax.googleapis.com/ajax/libs/jquery/1.11.1/jquery.min.js&quot;&gt;&lt;/script&gt;\n",
       "    &lt;script src=&quot;https://maxcdn.bootstrapcdn.com/bootstrap/3.2.0/js/bootstrap.min.js&quot;&gt;&lt;/script&gt;\n",
       "    &lt;script src=&quot;https://cdnjs.cloudflare.com/ajax/libs/Leaflet.awesome-markers/2.0.2/leaflet.awesome-markers.js&quot;&gt;&lt;/script&gt;\n",
       "    &lt;link rel=&quot;stylesheet&quot; href=&quot;https://cdn.jsdelivr.net/npm/leaflet@1.2.0/dist/leaflet.css&quot;/&gt;\n",
       "    &lt;link rel=&quot;stylesheet&quot; href=&quot;https://maxcdn.bootstrapcdn.com/bootstrap/3.2.0/css/bootstrap.min.css&quot;/&gt;\n",
       "    &lt;link rel=&quot;stylesheet&quot; href=&quot;https://maxcdn.bootstrapcdn.com/bootstrap/3.2.0/css/bootstrap-theme.min.css&quot;/&gt;\n",
       "    &lt;link rel=&quot;stylesheet&quot; href=&quot;https://maxcdn.bootstrapcdn.com/font-awesome/4.6.3/css/font-awesome.min.css&quot;/&gt;\n",
       "    &lt;link rel=&quot;stylesheet&quot; href=&quot;https://cdnjs.cloudflare.com/ajax/libs/Leaflet.awesome-markers/2.0.2/leaflet.awesome-markers.css&quot;/&gt;\n",
       "    &lt;link rel=&quot;stylesheet&quot; href=&quot;https://rawgit.com/python-visualization/folium/master/folium/templates/leaflet.awesome.rotate.css&quot;/&gt;\n",
       "    &lt;style&gt;html, body {width: 100%;height: 100%;margin: 0;padding: 0;}&lt;/style&gt;\n",
       "    &lt;style&gt;#map {position:absolute;top:0;bottom:0;right:0;left:0;}&lt;/style&gt;\n",
       "    \n",
       "            &lt;style&gt; #map_d94e51c5b58dbd421dc670bcd2f3afbc {\n",
       "                position : relative;\n",
       "                width : 100.0%;\n",
       "                height: 100.0%;\n",
       "                left: 0.0%;\n",
       "                top: 0.0%;\n",
       "                }\n",
       "            &lt;/style&gt;\n",
       "        \n",
       "&lt;/head&gt;\n",
       "&lt;body&gt;    \n",
       "    \n",
       "            &lt;div class=&quot;folium-map&quot; id=&quot;map_d94e51c5b58dbd421dc670bcd2f3afbc&quot; &gt;&lt;/div&gt;\n",
       "        \n",
       "&lt;/body&gt;\n",
       "&lt;script&gt;    \n",
       "    \n",
       "\n",
       "            \n",
       "                var bounds = null;\n",
       "            \n",
       "\n",
       "            var map_d94e51c5b58dbd421dc670bcd2f3afbc = L.map(\n",
       "                                  &#x27;map_d94e51c5b58dbd421dc670bcd2f3afbc&#x27;,\n",
       "                                  {center: [1.2063956,34.2079667],\n",
       "                                  zoom: 12,\n",
       "                                  maxBounds: bounds,\n",
       "                                  layers: [],\n",
       "                                  worldCopyJump: false,\n",
       "                                  crs: L.CRS.EPSG3857\n",
       "                                 });\n",
       "            \n",
       "        \n",
       "    \n",
       "            var tile_layer_7b81c325641e6a2998c19f08824dcd7a = L.tileLayer(\n",
       "                &#x27;https://{s}.tile.openstreetmap.org/{z}/{x}/{y}.png&#x27;,\n",
       "                {\n",
       "  &quot;attribution&quot;: null,\n",
       "  &quot;detectRetina&quot;: false,\n",
       "  &quot;maxZoom&quot;: 18,\n",
       "  &quot;minZoom&quot;: 1,\n",
       "  &quot;noWrap&quot;: false,\n",
       "  &quot;subdomains&quot;: &quot;abc&quot;\n",
       "}\n",
       "                ).addTo(map_d94e51c5b58dbd421dc670bcd2f3afbc);\n",
       "        \n",
       "&lt;/script&gt;\" style=\"position:absolute;width:100%;height:100%;left:0;top:0;border:none !important;\" allowfullscreen webkitallowfullscreen mozallowfullscreen></iframe></div></div>"
      ],
      "text/plain": [
       "<folium.folium.Map at 0x1a92ef8ea00>"
      ]
     },
     "execution_count": 28,
     "metadata": {},
     "output_type": "execute_result"
    }
   ],
   "source": [
    "map_uganda = folium.Map(location = [latitude, longitude], zoom_start=12)\n",
    "\n",
    "map_uganda"
   ]
  },
  {
   "cell_type": "markdown",
   "id": "32afd9ff",
   "metadata": {},
   "source": [
    "<B> Activities </b>"
   ]
  },
  {
   "cell_type": "markdown",
   "id": "ec1131af",
   "metadata": {},
   "source": [
    "1. Add a Single Marker to the mean location this map - Let the color of the marker be default blue"
   ]
  },
  {
   "cell_type": "markdown",
   "id": "dd7337a5",
   "metadata": {},
   "source": [
    "2. Change the color of the marker drawn in question 1 to Red"
   ]
  },
  {
   "cell_type": "markdown",
   "id": "704b3ed5",
   "metadata": {},
   "source": [
    "3. Chang the Icon on the Marker on a Folium Map in question 2"
   ]
  },
  {
   "cell_type": "markdown",
   "id": "2cb9c163",
   "metadata": {},
   "source": [
    "4. Add Multiple Markers to the Folium Map seen"
   ]
  },
  {
   "cell_type": "markdown",
   "id": "559803ef",
   "metadata": {},
   "source": [
    "5. Control Folium Marker Colour by Category of the crimes"
   ]
  },
  {
   "cell_type": "markdown",
   "id": "57ffede3",
   "metadata": {},
   "source": [
    "<b> Michael Kumakech is an AI, IoT and Data Science Instructor at Makerere University Kampala, Uganda.</b>"
   ]
  },
  {
   "cell_type": "code",
   "execution_count": null,
   "id": "b738aebb",
   "metadata": {},
   "outputs": [],
   "source": []
  }
 ],
 "metadata": {
  "kernelspec": {
   "display_name": "Python 3 (ipykernel)",
   "language": "python",
   "name": "python3"
  },
  "language_info": {
   "codemirror_mode": {
    "name": "ipython",
    "version": 3
   },
   "file_extension": ".py",
   "mimetype": "text/x-python",
   "name": "python",
   "nbconvert_exporter": "python",
   "pygments_lexer": "ipython3",
   "version": "3.9.12"
  }
 },
 "nbformat": 4,
 "nbformat_minor": 5
}
